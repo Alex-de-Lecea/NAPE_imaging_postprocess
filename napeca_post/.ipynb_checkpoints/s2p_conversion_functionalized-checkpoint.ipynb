{
 "cells": [
  {
   "cell_type": "code",
   "execution_count": 38,
   "id": "9c234f43-db43-4dbc-bc3c-8444c329b3c7",
   "metadata": {},
   "outputs": [],
   "source": [
    "import numpy as np\n",
    "import pickle as pkl\n",
    "import os\n",
    "import pandas as pd\n",
    "\n",
    "def define_paths(fdir, fname):\n",
    "    path_dict = {}\n",
    "    # define paths for loading s2p data\n",
    "    path_dict['s2p_dir'] = os.path.join(fdir, 'threshold_scaling_0.6', 'plane0')\n",
    "    path_dict['s2p_F_path'] = os.path.join(s2p_dir, 'F.npy')\n",
    "    path_dict['s2p_Fneu_path'] = os.path.join(s2p_dir, 'Fneu.npy')\n",
    "    path_dict['s2p_iscell_path'] = os.path.join(s2p_dir, 'iscell.npy')\n",
    "    path_dict['s2p_ops_path'] = os.path.join(s2p_dir, 'ops.npy')\n",
    "\n",
    "    # define savepaths for converted output data\n",
    "    path_dict['csv_savepath'] = os.path.join(fdir, \"{}_s2p_data.csv\".format(fname))\n",
    "    path_dict['npy_savepath'] = os.path.join(fdir, fname+'_s2p_neuropil_corrected_signals.npy')\n",
    "    \n",
    "    return path_dict"
   ]
  },
  {
   "cell_type": "code",
   "execution_count": 39,
   "id": "b7809769-176e-4959-b487-745c15e182e4",
   "metadata": {},
   "outputs": [],
   "source": [
    "def load_s2p_data(path_dict):\n",
    "    \n",
    "    s2p_data_dict = {}\n",
    "    # load s2p data\n",
    "    s2p_data_dict['F_data'] = np.load(path_dict['s2p_F_path'], allow_pickle=True)\n",
    "    s2p_data_dict['Fneu_data'] = np.load(path_dict['s2p_Fneu_path'], allow_pickle=True)\n",
    "    s2p_data_dict['iscell_data'] = np.load(path_dict['s2p_iscell_path'], allow_pickle=True)\n",
    "    s2p_data_dict['ops_data'] = np.load(path_dict['s2p_ops_path'], allow_pickle=True).item()\n",
    "    \n",
    "    return s2p_data_dict\n",
    "    "
   ]
  },
  {
   "cell_type": "code",
   "execution_count": 47,
   "id": "f031392b-a1c5-4e5c-9da7-b68a09b566eb",
   "metadata": {},
   "outputs": [
    {
     "name": "stdout",
     "output_type": "stream",
     "text": [
      "all done\n"
     ]
    }
   ],
   "source": [
    "if __name__ == \"__main__\":\n",
    "    \n",
    "    path_dict = define_paths(fdir, fname)\n",
    "    s2p_data_dict = load_s2p_data(path_dict)\n",
    "    \n",
    "    temp = s2p_data_dict['ops_data']\n",
    "    npil_corr_signals = s2p_data_dict['F_data'] -  temp['neucoeff'] * s2p_data_dict['Fneu_data']\n",
    "\n",
    "    iscell_npil_corr_data = npil_corr_signals[s2p_data_dict['iscell_data'][:,0].astype('bool'),:]\n",
    "    \n",
    "    # save cell activity data as a csv with ROIs on y axis and samples on x axis\n",
    "    np.save(path_dict['npy_savepath'], iscell_npil_corr_data) # this saves the user-curated neuropil corrected signals as an npy file\n",
    "    pd.DataFrame(data=iscell_npil_corr_data).to_csv(path_dict['csv_savepath'], index=False, header=False) # this saves the same data as a csv file\n",
    "    print(\"all done\")    "
   ]
  },
  {
   "cell_type": "code",
   "execution_count": 41,
   "id": "fbd6d43e-3a9d-4d99-8e1d-e7a970e4a737",
   "metadata": {},
   "outputs": [
    {
     "name": "stdout",
     "output_type": "stream",
     "text": [
      "{'hello': array([1., 2., 3., 1., 2., 3., 1., 2., 3., 1., 2., 3., 1., 2., 3., 1., 2.,\n",
      "       3., 1., 2., 3., 1., 2., 3., 1., 2., 3., 1., 2., 3.]), 'world': array([4., 5., 6., 4., 5., 6., 4., 5., 6., 4., 5., 6., 4., 5., 6., 4., 5.,\n",
      "       6., 4., 5., 6., 4., 5., 6., 4., 5., 6., 4., 5., 6.]), 'goodbye': array([7., 8., 9., 7., 8., 9., 7., 8., 9., 7., 8., 9., 7., 8., 9., 7., 8.,\n",
      "       9., 7., 8., 9., 7., 8., 9., 7., 8., 9., 7., 8., 9.])}\n"
     ]
    }
   ],
   "source": [
    "# fs: frame sampling rate\n",
    "# num_trial_condition: number of conditions which will be used to create that number of unique keys\n",
    "# condition names: names of the trial conditions so that they can be made as the key names\n",
    "# time_stamps: This is where I am not sure if it would be better to define as a parameter of the functionor just have \n",
    "# the user manually input it with its corresponding key (a.k.a trial condition) but it would be a 2d array\n",
    "event_frames = {}\n",
    "#going to want to change thid eventually since we define all of these variables above but they're not within this scope so we gotta figure that out\n",
    "fdir = r'C:\\Users\\Alex_dl\\Downloads\\suite2p-main\\suite2p-main\\jupyter'\n",
    "s2p_dir = os.path.join(fdir, 'suite2p', 'plane0', 'reg_tif', 'threshold_scaling_0.8', 'plane0')\n",
    "fname = '59879-0 666um 200pwr 10xobj 4frm avg suc70 quin30-000'\n",
    "\n",
    "\n",
    "def behavioral_event_dic(fs, condition_names, time_stamps):\n",
    "    for key in condition_names:\n",
    "        event_frames[key] = np.rint(np.array(time_stamps[condition_names.index(key)]*fs))\n",
    "        \n",
    "behavioral_event_dic(10, ['hello','world', 'goodbye'], [[1, 2, 3], [4, 5, 6], [7, 8, 9]])\n",
    "print(event_frames)\n",
    "\n",
    "# save dictionary into pickle\n",
    "with open(os.path.join(s2p_dir, 'framenumberforevents_'+fname+'.pkl'), 'wb') as handle:\n",
    "    pkl.dump(event_frames, handle, protocol=4) #pkl.HIGHEST_PROTOCOL"
   ]
  },
  {
   "cell_type": "code",
   "execution_count": null,
   "id": "5c1e5369-c013-4bbf-8068-5890593e3c13",
   "metadata": {},
   "outputs": [],
   "source": []
  }
 ],
 "metadata": {
  "kernelspec": {
   "display_name": "Python 3 (ipykernel)",
   "language": "python",
   "name": "python3"
  },
  "language_info": {
   "codemirror_mode": {
    "name": "ipython",
    "version": 3
   },
   "file_extension": ".py",
   "mimetype": "text/x-python",
   "name": "python",
   "nbconvert_exporter": "python",
   "pygments_lexer": "ipython3",
   "version": "3.9.7"
  }
 },
 "nbformat": 4,
 "nbformat_minor": 5
}
