{
 "cells": [
  {
   "cell_type": "code",
   "execution_count": null,
   "metadata": {
    "scrolled": true
   },
   "outputs": [],
   "source": [
    "import os\n",
    "import numpy as np\n",
    "import h5py\n",
    "import tifffile as tiff\n",
    "\n",
    "import matplotlib.pyplot as plt\n",
    "plt.rcParams['text.usetex'] = False\n",
    "plt.rcParams['text.latex.unicode'] = False"
   ]
  },
  {
   "cell_type": "code",
   "execution_count": null,
   "metadata": {},
   "outputs": [],
   "source": [
    "fname = 'VJ_OFCVTA_7_260_D6'\n",
    "root_dir = 'C:\\\\2pData\\\\Vijay data\\\\VJ_OFCVTA_7_D8_trained\\\\'\n",
    "suite2p_dat_dir = root_dir + 'suite2p\\\\plane0\\\\'\n",
    "\n",
    "fig_save_dir = os.path.join(root_dir, 'figs')\n",
    "proj_dir = os.path.join(root_dir, '{}_output_images'.format(fname))\n",
    "\n",
    "# projections path\n",
    "std_proj_path = os.path.join(proj_dir, 'std_img.tif')"
   ]
  },
  {
   "cell_type": "code",
   "execution_count": null,
   "metadata": {},
   "outputs": [],
   "source": [
    "std_img = tiff.imread(std_proj_path)"
   ]
  },
  {
   "cell_type": "code",
   "execution_count": null,
   "metadata": {},
   "outputs": [],
   "source": [
    "ops = np.load(suite2p_dat_dir + \"ops.npy\", allow_pickle = True).item()\n",
    "iscell = np.load(suite2p_dat_dir + \"iscell.npy\", allow_pickle = True)\n",
    "\n",
    "F = np.load(suite2p_dat_dir + 'F.npy')\n",
    "Fneu = np.load(suite2p_dat_dir + 'Fneu.npy')\n",
    "stat = np.load(suite2p_dat_dir + 'stat.npy', allow_pickle = True)\n",
    "\n",
    "print('stat dict keys:')\n",
    "print(stat[0].keys())"
   ]
  },
  {
   "cell_type": "code",
   "execution_count": null,
   "metadata": {},
   "outputs": [],
   "source": [
    "cell_ids = np.where( iscell[:,0] == 1 )[0]  # indices of detected cells across all ROIs from suite2p"
   ]
  },
  {
   "cell_type": "code",
   "execution_count": null,
   "metadata": {},
   "outputs": [],
   "source": [
    "# define number of ROIs to visualize and make colormap\n",
    "numROI_2Viz = 5\n",
    "colors_roi = plt.cm.viridis(np.linspace(0,1,numROI_2Viz))"
   ]
  },
  {
   "cell_type": "code",
   "execution_count": null,
   "metadata": {},
   "outputs": [],
   "source": [
    "# initialize templates for contour map\n",
    "plot_these_roi = []\n",
    "zero_template = np.zeros([ops['Ly'], ops['Lx']])\n",
    "\n",
    "# loop through ROIs and add their spatial footprints to template\n",
    "for idx,iROI in enumerate(cell_ids):\n",
    "    zero_template[ stat[iROI]['ypix'],stat[iROI]['xpix'] ] = 1*(idx+1)\n",
    "    \n",
    "    plot_these_roi.append(iROI) # just an array of cell ROI numbers for subsequent analyses\n",
    "    \n",
    "    if idx == numROI_2Viz-1:\n",
    "        break\n"
   ]
  },
  {
   "cell_type": "code",
   "execution_count": null,
   "metadata": {},
   "outputs": [],
   "source": [
    "fig, ax = plt.subplots(1, 1, figsize = (10,10))\n",
    "ax.imshow(std_img, cmap = 'gray')\n",
    "ax.axis('off')\n",
    "ax.contour(zero_template, colors = colors_roi);\n",
    "\n",
    "plt.savefig(fig_save_dir + 'roi_contour_map.jpg')\n",
    "plt.savefig(fig_save_dir + 'roi_contour_map.pdf')"
   ]
  },
  {
   "cell_type": "markdown",
   "metadata": {},
   "source": [
    "# Plot Time-series of Selected ROIs"
   ]
  },
  {
   "cell_type": "code",
   "execution_count": null,
   "metadata": {},
   "outputs": [],
   "source": [
    "# initialize variables for plotting time-series\n",
    "fs = ops['fs']\n",
    "num_samps = ops['nframes']\n",
    "total_time = num_samps/fs \n",
    "tvec = np.linspace(0,total_time,num_samps)"
   ]
  },
  {
   "cell_type": "code",
   "execution_count": null,
   "metadata": {},
   "outputs": [],
   "source": [
    "fig, ax = plt.subplots(numROI_2Viz, 1, figsize = (9,10))\n",
    "for idx, iROI in enumerate(plot_these_roi):\n",
    "    \n",
    "    baseline = np.mean(F[iROI])\n",
    "    \n",
    "    to_plot = ( (F[iROI]-baseline)/baseline )*100\n",
    "    \n",
    "    ax[idx].plot(tvec, np.transpose( to_plot ), color = colors_roi[idx] );\n",
    "    ax[idx].axis([0,500,-100,500])\n",
    "    \n",
    "    if idx == np.ceil(numROI_2Viz/2-1):\n",
    "        ax[idx].set_ylabel('Fluorescence Level',fontsize = 20)\n",
    "        \n",
    "ax[idx].set_xlabel('Time [s]',fontsize = 20);\n",
    "plt.savefig(fig_save_dir + 'roi_ts.jpg')\n",
    "plt.savefig(fig_save_dir + 'roi_ts.pdf')"
   ]
  },
  {
   "cell_type": "code",
   "execution_count": null,
   "metadata": {},
   "outputs": [],
   "source": []
  }
 ],
 "metadata": {
  "kernelspec": {
   "display_name": "Python 3 (ipykernel)",
   "language": "python",
   "name": "python3"
  },
  "language_info": {
   "codemirror_mode": {
    "name": "ipython",
    "version": 3
   },
   "file_extension": ".py",
   "mimetype": "text/x-python",
   "name": "python",
   "nbconvert_exporter": "python",
   "pygments_lexer": "ipython3",
   "version": "3.7.12"
  }
 },
 "nbformat": 4,
 "nbformat_minor": 2
}
