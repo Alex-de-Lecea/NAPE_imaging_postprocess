{
 "cells": [
  {
   "cell_type": "code",
   "execution_count": 1,
   "id": "faf66466-77dc-45de-8ec4-82e3c6c4efb7",
   "metadata": {},
   "outputs": [
    {
     "name": "stdout",
     "output_type": "stream",
     "text": [
      "Requirement already satisfied: suite2p in c:\\users\\alex_dl\\anaconda3\\lib\\site-packages (0.10.3)\n",
      "Requirement already satisfied: matplotlib in c:\\users\\alex_dl\\anaconda3\\lib\\site-packages (from suite2p) (3.4.3)\n",
      "Requirement already satisfied: rastermap>0.1.0 in c:\\users\\alex_dl\\anaconda3\\lib\\site-packages (from suite2p) (0.1.3)\n",
      "Requirement already satisfied: numba>=0.43.1 in c:\\users\\alex_dl\\anaconda3\\lib\\site-packages (from suite2p) (0.54.1)\n",
      "Requirement already satisfied: natsort in c:\\users\\alex_dl\\anaconda3\\lib\\site-packages (from suite2p) (8.1.0)\n",
      "Requirement already satisfied: sbxreader in c:\\users\\alex_dl\\anaconda3\\lib\\site-packages (from suite2p) (0.2.0)\n",
      "Requirement already satisfied: importlib-metadata in c:\\users\\alex_dl\\anaconda3\\lib\\site-packages (from suite2p) (4.8.1)\n",
      "Requirement already satisfied: h5py in c:\\users\\alex_dl\\anaconda3\\lib\\site-packages (from suite2p) (3.2.1)\n",
      "Requirement already satisfied: tifffile in c:\\users\\alex_dl\\anaconda3\\lib\\site-packages (from suite2p) (2021.7.2)\n",
      "Requirement already satisfied: scikit-learn in c:\\users\\alex_dl\\anaconda3\\lib\\site-packages (from suite2p) (0.24.2)\n",
      "Requirement already satisfied: scanimage-tiff-reader>=1.4.1 in c:\\users\\alex_dl\\anaconda3\\lib\\site-packages (from suite2p) (1.4.1)\n",
      "Requirement already satisfied: torch>=1.7.1 in c:\\users\\alex_dl\\anaconda3\\lib\\site-packages (from suite2p) (1.11.0)\n",
      "Requirement already satisfied: numpy>=1.16 in c:\\users\\alex_dl\\anaconda3\\lib\\site-packages (from suite2p) (1.20.3)\n",
      "Requirement already satisfied: scipy>=1.4.0 in c:\\users\\alex_dl\\anaconda3\\lib\\site-packages (from suite2p) (1.7.1)\n",
      "Requirement already satisfied: paramiko in c:\\users\\alex_dl\\anaconda3\\lib\\site-packages (from suite2p) (2.7.2)\n",
      "Requirement already satisfied: llvmlite<0.38,>=0.37.0rc1 in c:\\users\\alex_dl\\anaconda3\\lib\\site-packages (from numba>=0.43.1->suite2p) (0.37.0)\n",
      "Requirement already satisfied: setuptools in c:\\users\\alex_dl\\anaconda3\\lib\\site-packages (from numba>=0.43.1->suite2p) (58.0.4)\n",
      "Requirement already satisfied: pyqtgraph in c:\\users\\alex_dl\\anaconda3\\lib\\site-packages (from rastermap>0.1.0->suite2p) (0.12.4)\n",
      "Requirement already satisfied: typing-extensions in c:\\users\\alex_dl\\anaconda3\\lib\\site-packages (from torch>=1.7.1->suite2p) (3.10.0.2)\n",
      "Requirement already satisfied: zipp>=0.5 in c:\\users\\alex_dl\\anaconda3\\lib\\site-packages (from importlib-metadata->suite2p) (3.6.0)\n",
      "Requirement already satisfied: kiwisolver>=1.0.1 in c:\\users\\alex_dl\\anaconda3\\lib\\site-packages (from matplotlib->suite2p) (1.3.1)\n",
      "Requirement already satisfied: python-dateutil>=2.7 in c:\\users\\alex_dl\\anaconda3\\lib\\site-packages (from matplotlib->suite2p) (2.8.2)\n",
      "Requirement already satisfied: cycler>=0.10 in c:\\users\\alex_dl\\anaconda3\\lib\\site-packages (from matplotlib->suite2p) (0.10.0)\n",
      "Requirement already satisfied: pillow>=6.2.0 in c:\\users\\alex_dl\\anaconda3\\lib\\site-packages (from matplotlib->suite2p) (8.4.0)\n",
      "Requirement already satisfied: pyparsing>=2.2.1 in c:\\users\\alex_dl\\anaconda3\\lib\\site-packages (from matplotlib->suite2p) (3.0.4)\n",
      "Requirement already satisfied: six in c:\\users\\alex_dl\\anaconda3\\lib\\site-packages (from cycler>=0.10->matplotlib->suite2p) (1.16.0)\n",
      "Requirement already satisfied: cryptography>=2.5 in c:\\users\\alex_dl\\anaconda3\\lib\\site-packages (from paramiko->suite2p) (3.4.8)\n",
      "Requirement already satisfied: pynacl>=1.0.1 in c:\\users\\alex_dl\\anaconda3\\lib\\site-packages (from paramiko->suite2p) (1.4.0)\n",
      "Requirement already satisfied: bcrypt>=3.1.3 in c:\\users\\alex_dl\\anaconda3\\lib\\site-packages (from paramiko->suite2p) (3.2.0)\n",
      "Requirement already satisfied: cffi>=1.1 in c:\\users\\alex_dl\\anaconda3\\lib\\site-packages (from bcrypt>=3.1.3->paramiko->suite2p) (1.14.6)\n",
      "Requirement already satisfied: pycparser in c:\\users\\alex_dl\\anaconda3\\lib\\site-packages (from cffi>=1.1->bcrypt>=3.1.3->paramiko->suite2p) (2.20)\n",
      "Requirement already satisfied: threadpoolctl>=2.0.0 in c:\\users\\alex_dl\\anaconda3\\lib\\site-packages (from scikit-learn->suite2p) (2.2.0)\n",
      "Requirement already satisfied: joblib>=0.11 in c:\\users\\alex_dl\\anaconda3\\lib\\site-packages (from scikit-learn->suite2p) (1.1.0)\n"
     ]
    }
   ],
   "source": [
    "!pip install suite2p"
   ]
  },
  {
   "cell_type": "code",
   "execution_count": 2,
   "id": "23558847-7b9a-46ff-9860-e7db527f19e6",
   "metadata": {},
   "outputs": [
    {
     "name": "stdout",
     "output_type": "stream",
     "text": [
      "Warning: cellpose did not import\n",
      "No module named 'cellpose'\n",
      "cannot use anatomical mode, but otherwise suite2p will run normally\n"
     ]
    }
   ],
   "source": [
    "import os, requests\n",
    "from pathlib import Path\n",
    "import matplotlib.pyplot as plt\n",
    "import numpy as np\n",
    "\n",
    "import suite2p"
   ]
  },
  {
   "cell_type": "code",
   "execution_count": 3,
   "id": "0c94e543-f6da-44a1-8cf9-20ce27b61372",
   "metadata": {},
   "outputs": [
    {
     "name": "stderr",
     "output_type": "stream",
     "text": [
      "C:\\Users\\Alex_dl\\AppData\\Local\\Temp/ipykernel_13036/1385736914.py:14: MatplotlibDeprecationWarning: You are modifying the state of a globally registered colormap. This has been deprecated since 3.3 and in 3.6, you will not be able to modify a registered colormap in-place. To remove this warning, you can make a copy of the colormap first. cmap = mpl.cm.get_cmap(\"jet\").copy()\n",
      "  jet.set_bad(color='k')\n"
     ]
    }
   ],
   "source": [
    "import matplotlib as mpl\n",
    "mpl.rcParams.update({\n",
    "    'axes.spines.left': True,\n",
    "    'axes.spines.bottom': True,\n",
    "    'axes.spines.top': False,\n",
    "    'axes.spines.right': False,\n",
    "    'legend.frameon': False,\n",
    "    'figure.subplot.wspace': .01,\n",
    "    'figure.subplot.hspace': .01,\n",
    "    'figure.figsize': (18, 13),\n",
    "    'ytick.major.left': True,\n",
    "})\n",
    "jet = mpl.cm.get_cmap('jet')\n",
    "jet.set_bad(color='k')"
   ]
  },
  {
   "cell_type": "markdown",
   "id": "dc3ad66b-bd13-4b92-9885-9327e76bdaad",
   "metadata": {},
   "source": [
    "## User Input\n",
    "The user should input their desired parameters in the following cell"
   ]
  },
  {
   "cell_type": "code",
   "execution_count": 4,
   "id": "06232b49-b22e-431e-af9b-00f70feac1b1",
   "metadata": {},
   "outputs": [],
   "source": [
    "ops = suite2p.default_ops()\n",
    "ops['fs'] = 13 # sampling rate of recording, determines binning for cell detection\n",
    "ops['tau'] = 1.25 # timescale of gcamp to use for deconvolution\n",
    "ops['threshold_scaling'] =  [0.6, 0.8, 1.0, 1.5, 2.0] # set however many desired threshold_scaling values you wish to test"
   ]
  },
  {
   "cell_type": "markdown",
   "id": "f528108f-fdd2-4039-b419-a60cc3091a61",
   "metadata": {},
   "source": [
    "## User Input\n",
    "The user must input the data path"
   ]
  },
  {
   "cell_type": "code",
   "execution_count": 5,
   "id": "52b7bc70-eb71-45e7-b82d-f570979b69c7",
   "metadata": {},
   "outputs": [
    {
     "name": "stdout",
     "output_type": "stream",
     "text": [
      "{'data_path': ['C:\\\\Users\\\\Alex_dl\\\\Documents\\\\GitHub\\\\NAPE_imaging_postprocess\\\\napeca_post\\\\sample_data']}\n"
     ]
    }
   ],
   "source": [
    "db = {\n",
    "    'data_path': [os.path.join(os.getcwd(), 'sample_data')],\n",
    "}\n",
    "print(db)"
   ]
  },
  {
   "cell_type": "code",
   "execution_count": 6,
   "id": "c7a07c5e-d745-4e1a-8d80-2cff54c046fc",
   "metadata": {},
   "outputs": [
    {
     "name": "stdout",
     "output_type": "stream",
     "text": [
      "{'data_path': ['C:\\\\Users\\\\Alex_dl\\\\Documents\\\\GitHub\\\\NAPE_imaging_postprocess\\\\napeca_post\\\\sample_data']}\n",
      "tif\n",
      "** Found 1 tifs - converting to binary **\n",
      "2000 frames of binary, time 8.00 sec.\n",
      "4000 frames of binary, time 15.05 sec.\n",
      "6000 frames of binary, time 21.96 sec.\n",
      "time 24.79 sec. Wrote 6748 frames per binary for 1 planes\n",
      ">>>>>>>>>>>>>>>>>>>>> PLANE 0 <<<<<<<<<<<<<<<<<<<<<<\n",
      "NOTE: not registered / registration forced with ops['do_registration']>1\n",
      "      (no previous offsets to delete)\n",
      "----------- REGISTRATION\n",
      "registering 6748 frames\n",
      "Reference frame, 16.92 sec.\n",
      "Registered 2000/6748 in 102.27s\n",
      "Registered 4000/6748 in 182.23s\n"
     ]
    },
    {
     "name": "stderr",
     "output_type": "stream",
     "text": [
      "ERROR:root:Internal Python error in the inspect module.\n",
      "Below is the traceback from this internal error.\n",
      "\n"
     ]
    },
    {
     "name": "stdout",
     "output_type": "stream",
     "text": [
      "Traceback (most recent call last):\n",
      "  File \"C:\\Users\\Alex_dl\\anaconda3\\lib\\site-packages\\IPython\\core\\interactiveshell.py\", line 3444, in run_code\n",
      "    exec(code_obj, self.user_global_ns, self.user_ns)\n",
      "  File \"C:\\Users\\Alex_dl\\AppData\\Local\\Temp/ipykernel_13036/1085933403.py\", line 10, in <module>\n",
      "    output_ops = suite2p.run_s2p(ops=ops, db=db)\n",
      "  File \"C:\\Users\\Alex_dl\\anaconda3\\lib\\site-packages\\suite2p\\run_s2p.py\", line 448, in run_s2p\n",
      "    op = run_plane(op, ops_path=ops_path)\n",
      "  File \"C:\\Users\\Alex_dl\\anaconda3\\lib\\site-packages\\suite2p\\run_s2p.py\", line 202, in run_plane\n",
      "    ops = registration.register_binary(ops, refImg=refImg) # register binary\n",
      "  File \"C:\\Users\\Alex_dl\\anaconda3\\lib\\site-packages\\suite2p\\registration\\register.py\", line 388, in register_binary\n",
      "    frames, ymax, xmax, cmax, ymax1, xmax1, cmax1 = register_frames(refAndMasks, frames, ops)\n",
      "  File \"C:\\Users\\Alex_dl\\anaconda3\\lib\\site-packages\\suite2p\\registration\\register.py\", line 264, in register_frames\n",
      "    ymax1, xmax1, cmax1 = nonrigid.phasecorr(\n",
      "  File \"C:\\Users\\Alex_dl\\anaconda3\\lib\\site-packages\\suite2p\\registration\\nonrigid.py\", line 182, in phasecorr\n",
      "    Y = convolve(mov=Y, img=cfRefImg)\n",
      "  File \"C:\\Users\\Alex_dl\\anaconda3\\lib\\site-packages\\suite2p\\registration\\utils.py\", line 234, in convolve\n",
      "    return ifft2(apply_dotnorm(fft2(mov), img)) #.astype(np.complex64)\n",
      "KeyboardInterrupt\n",
      "\n",
      "During handling of the above exception, another exception occurred:\n",
      "\n",
      "Traceback (most recent call last):\n",
      "  File \"C:\\Users\\Alex_dl\\anaconda3\\lib\\site-packages\\IPython\\core\\interactiveshell.py\", line 2064, in showtraceback\n",
      "    stb = value._render_traceback_()\n",
      "AttributeError: 'KeyboardInterrupt' object has no attribute '_render_traceback_'\n",
      "\n",
      "During handling of the above exception, another exception occurred:\n",
      "\n",
      "Traceback (most recent call last):\n",
      "  File \"C:\\Users\\Alex_dl\\anaconda3\\lib\\site-packages\\IPython\\core\\ultratb.py\", line 1101, in get_records\n",
      "    return _fixed_getinnerframes(etb, number_of_lines_of_context, tb_offset)\n",
      "  File \"C:\\Users\\Alex_dl\\anaconda3\\lib\\site-packages\\IPython\\core\\ultratb.py\", line 248, in wrapped\n",
      "    return f(*args, **kwargs)\n",
      "  File \"C:\\Users\\Alex_dl\\anaconda3\\lib\\site-packages\\IPython\\core\\ultratb.py\", line 281, in _fixed_getinnerframes\n",
      "    records = fix_frame_records_filenames(inspect.getinnerframes(etb, context))\n",
      "  File \"C:\\Users\\Alex_dl\\anaconda3\\lib\\inspect.py\", line 1541, in getinnerframes\n",
      "    frameinfo = (tb.tb_frame,) + getframeinfo(tb, context)\n",
      "  File \"C:\\Users\\Alex_dl\\anaconda3\\lib\\inspect.py\", line 1499, in getframeinfo\n",
      "    filename = getsourcefile(frame) or getfile(frame)\n",
      "  File \"C:\\Users\\Alex_dl\\anaconda3\\lib\\inspect.py\", line 709, in getsourcefile\n",
      "    if getattr(getmodule(object, filename), '__loader__', None) is not None:\n",
      "  File \"C:\\Users\\Alex_dl\\anaconda3\\lib\\inspect.py\", line 752, in getmodule\n",
      "    f = getabsfile(module)\n",
      "  File \"C:\\Users\\Alex_dl\\anaconda3\\lib\\inspect.py\", line 721, in getabsfile\n",
      "    _filename = getsourcefile(object) or getfile(object)\n",
      "  File \"C:\\Users\\Alex_dl\\anaconda3\\lib\\inspect.py\", line 706, in getsourcefile\n",
      "    if os.path.exists(filename):\n",
      "  File \"C:\\Users\\Alex_dl\\anaconda3\\lib\\genericpath.py\", line 19, in exists\n",
      "    os.stat(path)\n",
      "KeyboardInterrupt\n"
     ]
    },
    {
     "ename": "TypeError",
     "evalue": "object of type 'NoneType' has no len()",
     "output_type": "error",
     "traceback": [
      "\u001b[1;31m---------------------------------------------------------------------------\u001b[0m",
      "\u001b[1;31mKeyboardInterrupt\u001b[0m                         Traceback (most recent call last)",
      "    \u001b[1;31m[... skipping hidden 1 frame]\u001b[0m\n",
      "\u001b[1;32m~\\AppData\\Local\\Temp/ipykernel_13036/1085933403.py\u001b[0m in \u001b[0;36m<module>\u001b[1;34m\u001b[0m\n\u001b[0;32m      9\u001b[0m     \u001b[0mops\u001b[0m\u001b[1;33m[\u001b[0m\u001b[1;34m'save_folder'\u001b[0m\u001b[1;33m]\u001b[0m \u001b[1;33m=\u001b[0m \u001b[1;34mf'threshold_scaling_{x}'\u001b[0m\u001b[1;33m\u001b[0m\u001b[1;33m\u001b[0m\u001b[0m\n\u001b[1;32m---> 10\u001b[1;33m     \u001b[0moutput_ops\u001b[0m \u001b[1;33m=\u001b[0m \u001b[0msuite2p\u001b[0m\u001b[1;33m.\u001b[0m\u001b[0mrun_s2p\u001b[0m\u001b[1;33m(\u001b[0m\u001b[0mops\u001b[0m\u001b[1;33m=\u001b[0m\u001b[0mops\u001b[0m\u001b[1;33m,\u001b[0m \u001b[0mdb\u001b[0m\u001b[1;33m=\u001b[0m\u001b[0mdb\u001b[0m\u001b[1;33m)\u001b[0m\u001b[1;33m\u001b[0m\u001b[1;33m\u001b[0m\u001b[0m\n\u001b[0m",
      "\u001b[1;32m~\\anaconda3\\lib\\site-packages\\suite2p\\run_s2p.py\u001b[0m in \u001b[0;36mrun_s2p\u001b[1;34m(ops, db, server)\u001b[0m\n\u001b[0;32m    447\u001b[0m             \u001b[0mprint\u001b[0m\u001b[1;33m(\u001b[0m\u001b[1;34m'>>>>>>>>>>>>>>>>>>>>> PLANE %d <<<<<<<<<<<<<<<<<<<<<<'\u001b[0m\u001b[1;33m%\u001b[0m\u001b[0mipl\u001b[0m\u001b[1;33m)\u001b[0m\u001b[1;33m\u001b[0m\u001b[1;33m\u001b[0m\u001b[0m\n\u001b[1;32m--> 448\u001b[1;33m             \u001b[0mop\u001b[0m \u001b[1;33m=\u001b[0m \u001b[0mrun_plane\u001b[0m\u001b[1;33m(\u001b[0m\u001b[0mop\u001b[0m\u001b[1;33m,\u001b[0m \u001b[0mops_path\u001b[0m\u001b[1;33m=\u001b[0m\u001b[0mops_path\u001b[0m\u001b[1;33m)\u001b[0m\u001b[1;33m\u001b[0m\u001b[1;33m\u001b[0m\u001b[0m\n\u001b[0m\u001b[0;32m    449\u001b[0m             print('Plane %d processed in %0.2f sec (can open in GUI).' % \n",
      "\u001b[1;32m~\\anaconda3\\lib\\site-packages\\suite2p\\run_s2p.py\u001b[0m in \u001b[0;36mrun_plane\u001b[1;34m(ops, ops_path, stat)\u001b[0m\n\u001b[0;32m    201\u001b[0m         \u001b[0mrefImg\u001b[0m \u001b[1;33m=\u001b[0m \u001b[0mops\u001b[0m\u001b[1;33m[\u001b[0m\u001b[1;34m'refImg'\u001b[0m\u001b[1;33m]\u001b[0m \u001b[1;32mif\u001b[0m \u001b[1;34m'refImg'\u001b[0m \u001b[1;32min\u001b[0m \u001b[0mops\u001b[0m \u001b[1;32mand\u001b[0m \u001b[0mops\u001b[0m\u001b[1;33m.\u001b[0m\u001b[0mget\u001b[0m\u001b[1;33m(\u001b[0m\u001b[1;34m'force_refImg'\u001b[0m\u001b[1;33m,\u001b[0m \u001b[1;32mFalse\u001b[0m\u001b[1;33m)\u001b[0m \u001b[1;32melse\u001b[0m \u001b[1;32mNone\u001b[0m\u001b[1;33m\u001b[0m\u001b[1;33m\u001b[0m\u001b[0m\n\u001b[1;32m--> 202\u001b[1;33m         \u001b[0mops\u001b[0m \u001b[1;33m=\u001b[0m \u001b[0mregistration\u001b[0m\u001b[1;33m.\u001b[0m\u001b[0mregister_binary\u001b[0m\u001b[1;33m(\u001b[0m\u001b[0mops\u001b[0m\u001b[1;33m,\u001b[0m \u001b[0mrefImg\u001b[0m\u001b[1;33m=\u001b[0m\u001b[0mrefImg\u001b[0m\u001b[1;33m)\u001b[0m \u001b[1;31m# register binary\u001b[0m\u001b[1;33m\u001b[0m\u001b[1;33m\u001b[0m\u001b[0m\n\u001b[0m\u001b[0;32m    203\u001b[0m         \u001b[0mnp\u001b[0m\u001b[1;33m.\u001b[0m\u001b[0msave\u001b[0m\u001b[1;33m(\u001b[0m\u001b[0mops\u001b[0m\u001b[1;33m[\u001b[0m\u001b[1;34m'ops_path'\u001b[0m\u001b[1;33m]\u001b[0m\u001b[1;33m,\u001b[0m \u001b[0mops\u001b[0m\u001b[1;33m)\u001b[0m\u001b[1;33m\u001b[0m\u001b[1;33m\u001b[0m\u001b[0m\n",
      "\u001b[1;32m~\\anaconda3\\lib\\site-packages\\suite2p\\registration\\register.py\u001b[0m in \u001b[0;36mregister_binary\u001b[1;34m(ops, refImg, raw)\u001b[0m\n\u001b[0;32m    387\u001b[0m         \u001b[1;32mfor\u001b[0m \u001b[0mk\u001b[0m\u001b[1;33m,\u001b[0m \u001b[1;33m(\u001b[0m\u001b[0m_\u001b[0m\u001b[1;33m,\u001b[0m \u001b[0mframes\u001b[0m\u001b[1;33m)\u001b[0m \u001b[1;32min\u001b[0m \u001b[0menumerate\u001b[0m\u001b[1;33m(\u001b[0m\u001b[0mf\u001b[0m\u001b[1;33m.\u001b[0m\u001b[0miter_frames\u001b[0m\u001b[1;33m(\u001b[0m\u001b[0mbatch_size\u001b[0m\u001b[1;33m=\u001b[0m\u001b[0mops\u001b[0m\u001b[1;33m[\u001b[0m\u001b[1;34m'batch_size'\u001b[0m\u001b[1;33m]\u001b[0m\u001b[1;33m)\u001b[0m\u001b[1;33m)\u001b[0m\u001b[1;33m:\u001b[0m\u001b[1;33m\u001b[0m\u001b[1;33m\u001b[0m\u001b[0m\n\u001b[1;32m--> 388\u001b[1;33m             \u001b[0mframes\u001b[0m\u001b[1;33m,\u001b[0m \u001b[0mymax\u001b[0m\u001b[1;33m,\u001b[0m \u001b[0mxmax\u001b[0m\u001b[1;33m,\u001b[0m \u001b[0mcmax\u001b[0m\u001b[1;33m,\u001b[0m \u001b[0mymax1\u001b[0m\u001b[1;33m,\u001b[0m \u001b[0mxmax1\u001b[0m\u001b[1;33m,\u001b[0m \u001b[0mcmax1\u001b[0m \u001b[1;33m=\u001b[0m \u001b[0mregister_frames\u001b[0m\u001b[1;33m(\u001b[0m\u001b[0mrefAndMasks\u001b[0m\u001b[1;33m,\u001b[0m \u001b[0mframes\u001b[0m\u001b[1;33m,\u001b[0m \u001b[0mops\u001b[0m\u001b[1;33m)\u001b[0m\u001b[1;33m\u001b[0m\u001b[1;33m\u001b[0m\u001b[0m\n\u001b[0m\u001b[0;32m    389\u001b[0m \u001b[1;33m\u001b[0m\u001b[0m\n",
      "\u001b[1;32m~\\anaconda3\\lib\\site-packages\\suite2p\\registration\\register.py\u001b[0m in \u001b[0;36mregister_frames\u001b[1;34m(refAndMasks, frames, ops)\u001b[0m\n\u001b[0;32m    263\u001b[0m \u001b[1;33m\u001b[0m\u001b[0m\n\u001b[1;32m--> 264\u001b[1;33m         ymax1, xmax1, cmax1 = nonrigid.phasecorr(\n\u001b[0m\u001b[0;32m    265\u001b[0m             \u001b[0mdata\u001b[0m\u001b[1;33m=\u001b[0m\u001b[0mfsmooth\u001b[0m\u001b[1;33m,\u001b[0m\u001b[1;33m\u001b[0m\u001b[1;33m\u001b[0m\u001b[0m\n",
      "\u001b[1;32m~\\anaconda3\\lib\\site-packages\\suite2p\\registration\\nonrigid.py\u001b[0m in \u001b[0;36mphasecorr\u001b[1;34m(data, maskMul, maskOffset, cfRefImg, snr_thresh, NRsm, xblock, yblock, maxregshiftNR, subpixel, lpad)\u001b[0m\n\u001b[0;32m    181\u001b[0m     \u001b[0mY\u001b[0m \u001b[1;33m=\u001b[0m \u001b[0maddmultiply\u001b[0m\u001b[1;33m(\u001b[0m\u001b[0mY\u001b[0m\u001b[1;33m,\u001b[0m \u001b[0mmaskMul\u001b[0m\u001b[1;33m,\u001b[0m \u001b[0mmaskOffset\u001b[0m\u001b[1;33m)\u001b[0m\u001b[1;33m\u001b[0m\u001b[1;33m\u001b[0m\u001b[0m\n\u001b[1;32m--> 182\u001b[1;33m     \u001b[0mY\u001b[0m \u001b[1;33m=\u001b[0m \u001b[0mconvolve\u001b[0m\u001b[1;33m(\u001b[0m\u001b[0mmov\u001b[0m\u001b[1;33m=\u001b[0m\u001b[0mY\u001b[0m\u001b[1;33m,\u001b[0m \u001b[0mimg\u001b[0m\u001b[1;33m=\u001b[0m\u001b[0mcfRefImg\u001b[0m\u001b[1;33m)\u001b[0m\u001b[1;33m\u001b[0m\u001b[1;33m\u001b[0m\u001b[0m\n\u001b[0m\u001b[0;32m    183\u001b[0m \u001b[1;33m\u001b[0m\u001b[0m\n",
      "\u001b[1;32m~\\anaconda3\\lib\\site-packages\\suite2p\\registration\\utils.py\u001b[0m in \u001b[0;36mconvolve\u001b[1;34m(mov, img)\u001b[0m\n\u001b[0;32m    233\u001b[0m     \"\"\"\n\u001b[1;32m--> 234\u001b[1;33m     \u001b[1;32mreturn\u001b[0m \u001b[0mifft2\u001b[0m\u001b[1;33m(\u001b[0m\u001b[0mapply_dotnorm\u001b[0m\u001b[1;33m(\u001b[0m\u001b[0mfft2\u001b[0m\u001b[1;33m(\u001b[0m\u001b[0mmov\u001b[0m\u001b[1;33m)\u001b[0m\u001b[1;33m,\u001b[0m \u001b[0mimg\u001b[0m\u001b[1;33m)\u001b[0m\u001b[1;33m)\u001b[0m \u001b[1;31m#.astype(np.complex64)\u001b[0m\u001b[1;33m\u001b[0m\u001b[1;33m\u001b[0m\u001b[0m\n\u001b[0m\u001b[0;32m    235\u001b[0m \u001b[1;33m\u001b[0m\u001b[0m\n",
      "\u001b[1;31mKeyboardInterrupt\u001b[0m: ",
      "\nDuring handling of the above exception, another exception occurred:\n",
      "\u001b[1;31mAttributeError\u001b[0m                            Traceback (most recent call last)",
      "\u001b[1;32m~\\anaconda3\\lib\\site-packages\\IPython\\core\\interactiveshell.py\u001b[0m in \u001b[0;36mshowtraceback\u001b[1;34m(self, exc_tuple, filename, tb_offset, exception_only, running_compiled_code)\u001b[0m\n\u001b[0;32m   2063\u001b[0m                         \u001b[1;31m# in the engines. This should return a list of strings.\u001b[0m\u001b[1;33m\u001b[0m\u001b[1;33m\u001b[0m\u001b[0m\n\u001b[1;32m-> 2064\u001b[1;33m                         \u001b[0mstb\u001b[0m \u001b[1;33m=\u001b[0m \u001b[0mvalue\u001b[0m\u001b[1;33m.\u001b[0m\u001b[0m_render_traceback_\u001b[0m\u001b[1;33m(\u001b[0m\u001b[1;33m)\u001b[0m\u001b[1;33m\u001b[0m\u001b[1;33m\u001b[0m\u001b[0m\n\u001b[0m\u001b[0;32m   2065\u001b[0m                     \u001b[1;32mexcept\u001b[0m \u001b[0mException\u001b[0m\u001b[1;33m:\u001b[0m\u001b[1;33m\u001b[0m\u001b[1;33m\u001b[0m\u001b[0m\n",
      "\u001b[1;31mAttributeError\u001b[0m: 'KeyboardInterrupt' object has no attribute '_render_traceback_'",
      "\nDuring handling of the above exception, another exception occurred:\n",
      "\u001b[1;31mTypeError\u001b[0m                                 Traceback (most recent call last)",
      "    \u001b[1;31m[... skipping hidden 1 frame]\u001b[0m\n",
      "\u001b[1;32m~\\anaconda3\\lib\\site-packages\\IPython\\core\\interactiveshell.py\u001b[0m in \u001b[0;36mshowtraceback\u001b[1;34m(self, exc_tuple, filename, tb_offset, exception_only, running_compiled_code)\u001b[0m\n\u001b[0;32m   2064\u001b[0m                         \u001b[0mstb\u001b[0m \u001b[1;33m=\u001b[0m \u001b[0mvalue\u001b[0m\u001b[1;33m.\u001b[0m\u001b[0m_render_traceback_\u001b[0m\u001b[1;33m(\u001b[0m\u001b[1;33m)\u001b[0m\u001b[1;33m\u001b[0m\u001b[1;33m\u001b[0m\u001b[0m\n\u001b[0;32m   2065\u001b[0m                     \u001b[1;32mexcept\u001b[0m \u001b[0mException\u001b[0m\u001b[1;33m:\u001b[0m\u001b[1;33m\u001b[0m\u001b[1;33m\u001b[0m\u001b[0m\n\u001b[1;32m-> 2066\u001b[1;33m                         stb = self.InteractiveTB.structured_traceback(etype,\n\u001b[0m\u001b[0;32m   2067\u001b[0m                                             value, tb, tb_offset=tb_offset)\n\u001b[0;32m   2068\u001b[0m \u001b[1;33m\u001b[0m\u001b[0m\n",
      "\u001b[1;32m~\\anaconda3\\lib\\site-packages\\IPython\\core\\ultratb.py\u001b[0m in \u001b[0;36mstructured_traceback\u001b[1;34m(self, etype, value, tb, tb_offset, number_of_lines_of_context)\u001b[0m\n\u001b[0;32m   1365\u001b[0m         \u001b[1;32melse\u001b[0m\u001b[1;33m:\u001b[0m\u001b[1;33m\u001b[0m\u001b[1;33m\u001b[0m\u001b[0m\n\u001b[0;32m   1366\u001b[0m             \u001b[0mself\u001b[0m\u001b[1;33m.\u001b[0m\u001b[0mtb\u001b[0m \u001b[1;33m=\u001b[0m \u001b[0mtb\u001b[0m\u001b[1;33m\u001b[0m\u001b[1;33m\u001b[0m\u001b[0m\n\u001b[1;32m-> 1367\u001b[1;33m         return FormattedTB.structured_traceback(\n\u001b[0m\u001b[0;32m   1368\u001b[0m             self, etype, value, tb, tb_offset, number_of_lines_of_context)\n\u001b[0;32m   1369\u001b[0m \u001b[1;33m\u001b[0m\u001b[0m\n",
      "\u001b[1;32m~\\anaconda3\\lib\\site-packages\\IPython\\core\\ultratb.py\u001b[0m in \u001b[0;36mstructured_traceback\u001b[1;34m(self, etype, value, tb, tb_offset, number_of_lines_of_context)\u001b[0m\n\u001b[0;32m   1265\u001b[0m         \u001b[1;32mif\u001b[0m \u001b[0mmode\u001b[0m \u001b[1;32min\u001b[0m \u001b[0mself\u001b[0m\u001b[1;33m.\u001b[0m\u001b[0mverbose_modes\u001b[0m\u001b[1;33m:\u001b[0m\u001b[1;33m\u001b[0m\u001b[1;33m\u001b[0m\u001b[0m\n\u001b[0;32m   1266\u001b[0m             \u001b[1;31m# Verbose modes need a full traceback\u001b[0m\u001b[1;33m\u001b[0m\u001b[1;33m\u001b[0m\u001b[0m\n\u001b[1;32m-> 1267\u001b[1;33m             return VerboseTB.structured_traceback(\n\u001b[0m\u001b[0;32m   1268\u001b[0m                 \u001b[0mself\u001b[0m\u001b[1;33m,\u001b[0m \u001b[0metype\u001b[0m\u001b[1;33m,\u001b[0m \u001b[0mvalue\u001b[0m\u001b[1;33m,\u001b[0m \u001b[0mtb\u001b[0m\u001b[1;33m,\u001b[0m \u001b[0mtb_offset\u001b[0m\u001b[1;33m,\u001b[0m \u001b[0mnumber_of_lines_of_context\u001b[0m\u001b[1;33m\u001b[0m\u001b[1;33m\u001b[0m\u001b[0m\n\u001b[0;32m   1269\u001b[0m             )\n",
      "\u001b[1;32m~\\anaconda3\\lib\\site-packages\\IPython\\core\\ultratb.py\u001b[0m in \u001b[0;36mstructured_traceback\u001b[1;34m(self, etype, evalue, etb, tb_offset, number_of_lines_of_context)\u001b[0m\n\u001b[0;32m   1122\u001b[0m         \u001b[1;34m\"\"\"Return a nice text document describing the traceback.\"\"\"\u001b[0m\u001b[1;33m\u001b[0m\u001b[1;33m\u001b[0m\u001b[0m\n\u001b[0;32m   1123\u001b[0m \u001b[1;33m\u001b[0m\u001b[0m\n\u001b[1;32m-> 1124\u001b[1;33m         formatted_exception = self.format_exception_as_a_whole(etype, evalue, etb, number_of_lines_of_context,\n\u001b[0m\u001b[0;32m   1125\u001b[0m                                                                tb_offset)\n\u001b[0;32m   1126\u001b[0m \u001b[1;33m\u001b[0m\u001b[0m\n",
      "\u001b[1;32m~\\anaconda3\\lib\\site-packages\\IPython\\core\\ultratb.py\u001b[0m in \u001b[0;36mformat_exception_as_a_whole\u001b[1;34m(self, etype, evalue, etb, number_of_lines_of_context, tb_offset)\u001b[0m\n\u001b[0;32m   1080\u001b[0m \u001b[1;33m\u001b[0m\u001b[0m\n\u001b[0;32m   1081\u001b[0m \u001b[1;33m\u001b[0m\u001b[0m\n\u001b[1;32m-> 1082\u001b[1;33m         \u001b[0mlast_unique\u001b[0m\u001b[1;33m,\u001b[0m \u001b[0mrecursion_repeat\u001b[0m \u001b[1;33m=\u001b[0m \u001b[0mfind_recursion\u001b[0m\u001b[1;33m(\u001b[0m\u001b[0morig_etype\u001b[0m\u001b[1;33m,\u001b[0m \u001b[0mevalue\u001b[0m\u001b[1;33m,\u001b[0m \u001b[0mrecords\u001b[0m\u001b[1;33m)\u001b[0m\u001b[1;33m\u001b[0m\u001b[1;33m\u001b[0m\u001b[0m\n\u001b[0m\u001b[0;32m   1083\u001b[0m \u001b[1;33m\u001b[0m\u001b[0m\n\u001b[0;32m   1084\u001b[0m         \u001b[0mframes\u001b[0m \u001b[1;33m=\u001b[0m \u001b[0mself\u001b[0m\u001b[1;33m.\u001b[0m\u001b[0mformat_records\u001b[0m\u001b[1;33m(\u001b[0m\u001b[0mrecords\u001b[0m\u001b[1;33m,\u001b[0m \u001b[0mlast_unique\u001b[0m\u001b[1;33m,\u001b[0m \u001b[0mrecursion_repeat\u001b[0m\u001b[1;33m)\u001b[0m\u001b[1;33m\u001b[0m\u001b[1;33m\u001b[0m\u001b[0m\n",
      "\u001b[1;32m~\\anaconda3\\lib\\site-packages\\IPython\\core\\ultratb.py\u001b[0m in \u001b[0;36mfind_recursion\u001b[1;34m(etype, value, records)\u001b[0m\n\u001b[0;32m    380\u001b[0m     \u001b[1;31m# first frame (from in to out) that looks different.\u001b[0m\u001b[1;33m\u001b[0m\u001b[1;33m\u001b[0m\u001b[0m\n\u001b[0;32m    381\u001b[0m     \u001b[1;32mif\u001b[0m \u001b[1;32mnot\u001b[0m \u001b[0mis_recursion_error\u001b[0m\u001b[1;33m(\u001b[0m\u001b[0metype\u001b[0m\u001b[1;33m,\u001b[0m \u001b[0mvalue\u001b[0m\u001b[1;33m,\u001b[0m \u001b[0mrecords\u001b[0m\u001b[1;33m)\u001b[0m\u001b[1;33m:\u001b[0m\u001b[1;33m\u001b[0m\u001b[1;33m\u001b[0m\u001b[0m\n\u001b[1;32m--> 382\u001b[1;33m         \u001b[1;32mreturn\u001b[0m \u001b[0mlen\u001b[0m\u001b[1;33m(\u001b[0m\u001b[0mrecords\u001b[0m\u001b[1;33m)\u001b[0m\u001b[1;33m,\u001b[0m \u001b[1;36m0\u001b[0m\u001b[1;33m\u001b[0m\u001b[1;33m\u001b[0m\u001b[0m\n\u001b[0m\u001b[0;32m    383\u001b[0m \u001b[1;33m\u001b[0m\u001b[0m\n\u001b[0;32m    384\u001b[0m     \u001b[1;31m# Select filename, lineno, func_name to track frames with\u001b[0m\u001b[1;33m\u001b[0m\u001b[1;33m\u001b[0m\u001b[0m\n",
      "\u001b[1;31mTypeError\u001b[0m: object of type 'NoneType' has no len()"
     ]
    }
   ],
   "source": [
    "output_ops={}\n",
    "output_ops['save_path'] = os.getcwd()\n",
    "base_dir = output_ops['save_path']\n",
    "for x in ops['threshold_scaling']:\n",
    "    ops['threshold_scaling'] = x\n",
    "    \n",
    "    #deals with creating and saving outputs into correct folders\n",
    "    output_ops['save_path'] = os.path.join(os.getcwd(), f'threshold_scaling_{x}')\n",
    "    ops['save_folder'] = f'threshold_scaling_{x}'\n",
    "    output_ops = suite2p.run_s2p(ops=ops, db=db)\n",
    "    \n",
    "    #functions that output the Registration visualizations(only outputs once)\n",
    "    if not os.path.exists(path):\n",
    "        reg_ref_imgs(output_ops)\n",
    "        reg_displacement_vis(output_ops)\n",
    "    \n",
    "    #functions that output the ROI detections visualizations\n",
    "    roi_mask_vis(output_ops, x)\n",
    "    roi_trace_vis(output_ops, x)"
   ]
  },
  {
   "cell_type": "code",
   "execution_count": null,
   "id": "3c33e648-d75b-4711-bde6-cb9011d8dd28",
   "metadata": {},
   "outputs": [],
   "source": []
  }
 ],
 "metadata": {
  "kernelspec": {
   "display_name": "Python 3 (ipykernel)",
   "language": "python",
   "name": "python3"
  },
  "language_info": {
   "codemirror_mode": {
    "name": "ipython",
    "version": 3
   },
   "file_extension": ".py",
   "mimetype": "text/x-python",
   "name": "python",
   "nbconvert_exporter": "python",
   "pygments_lexer": "ipython3",
   "version": "3.9.7"
  }
 },
 "nbformat": 4,
 "nbformat_minor": 5
}
