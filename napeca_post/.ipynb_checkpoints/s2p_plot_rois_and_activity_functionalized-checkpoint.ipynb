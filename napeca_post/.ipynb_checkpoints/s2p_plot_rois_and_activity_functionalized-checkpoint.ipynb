{
 "cells": [
  {
   "cell_type": "code",
   "execution_count": null,
   "id": "52ea4d7b-d6e2-4aa4-9860-9f6f7839d2cf",
   "metadata": {},
   "outputs": [],
   "source": [
    "import os\n",
    "import numpy as np\n",
    "import h5py\n",
    "import tifffile as tiff\n",
    "\n",
    "import utils\n",
    "\n",
    "import matplotlib.pyplot as plt\n",
    "plt.rcParams['text.usetex'] = False\n",
    "plt.rcParams['text.latex.unicode'] = False"
   ]
  },
  {
   "cell_type": "code",
   "execution_count": null,
   "id": "c56b3c4f-3f83-4f77-93f7-12f4a9a59125",
   "metadata": {},
   "outputs": [],
   "source": [
    "def user_var(fdir, tseries_start_end, rois_to_plot):\n",
    "    "
   ]
  },
  {
   "cell_type": "code",
   "execution_count": null,
   "id": "0f88c263-54aa-4437-b010-d26aa1e9374c",
   "metadata": {},
   "outputs": [],
   "source": [
    "def define_paths(fdir, fname):\n",
    "    \n",
    "    path_dict = {}\n",
    "    # define paths for loading s2p data\n",
    "    path_dict['s2p_dir'] = os.path.join(fdir, 'threshold_scaling_0.6', 'plane0')\n",
    "    path_dict['s2p_F_path'] = os.path.join(path_dict['s2p_dir'], 'F.npy')\n",
    "    path_dict['s2p_Fneu_path'] = os.path.join(path_dict['s2p_dir'], 'Fneu.npy')\n",
    "    path_dict['s2p_iscell_path'] = os.path.join(path_dict['s2p_dir'], 'iscell.npy')\n",
    "    path_dict['s2p_ops_path'] = os.path.join(path_dict['s2p_dir'], 'ops.npy')\n",
    "    path_dict['2p_stat_path'] = os.path.join(path_dict['s2p_dir'], 'stat.npy')\n",
    "    \n",
    "    path_dict['suite2p_dat_dir'] = os.path.join('suite2p','plane0')\n",
    "    path_dict['fig_save_dir'] = os.path.join(fdir, 'figs')\n",
    "    utils.check_exist_dir(path_dict['fig_save_dir'])\n",
    "\n",
    "    return path_dict"
   ]
  },
  {
   "cell_type": "code",
   "execution_count": null,
   "id": "9b774c1c-abf5-4d8f-a76e-82b4f621ef66",
   "metadata": {},
   "outputs": [],
   "source": [
    "def load_s2p_data(path_dict):\n",
    "    \n",
    "    s2p_data_dict = {}\n",
    "    # load s2p data\n",
    "    s2p_data_dict['F'] = np.load(path_dict['s2p_F_path'], allow_pickle=True)\n",
    "    s2p_data_dict['Fneu'] = np.load(path_dict['s2p_Fneu_path'], allow_pickle=True)\n",
    "    s2p_data_dict['iscell'] = np.load(path_dict['s2p_iscell_path'], allow_pickle=True)\n",
    "    s2p_data_dict['ops'] = np.load(path_dict['s2p_ops_path'], allow_pickle=True).item()\n",
    "    s2p_data_dict['stat'] = np.load(path_dict['s2p_stat_path'], allow_pickle=True)\n",
    "\n",
    "    s2p_data_dict['F_npil_corr'] = s2p_data_dict['F'] - s2p_data_dict['ops']['neucoeff'] * s2p_data_dict['Fneu']\n",
    "\n",
    "    s2p_data_dict['F_npil_corr_dff'] = np.apply_along_axis(utils.calc_dff, 1, s2p_data_dict['F_npil_corr'])\n",
    "    \n",
    "    return s2p_data_dict"
   ]
  },
  {
   "cell_type": "code",
   "execution_count": null,
   "id": "a1080812-043a-4586-a688-e9147b3ba7e0",
   "metadata": {},
   "outputs": [],
   "source": [
    "def plotting_rois(rois_to_plot):\n",
    "    iscell_ids = np.where( s2p_data_dict['iscell'][:,0] == 1 )[0] # indices of user-curated cells referencing all ROIs detected by s2p\n",
    "\n",
    "    if isinstance(rois_to_plot, int): # if int is supplied, first n user-curated rois included in analysis\n",
    "        rois_to_plot = np.arange(rois_to_plot)\n",
    "    elif rois_to_plot is None: # if None is supplied, all user-curated rois included in analysis\n",
    "        rois_to_plot = np.arange(len(iscell_ids))\n",
    "\n",
    "    return cell_ids = iscell_ids[rois_to_plot] # indices of detected cells across all ROIs from suite2p\n",
    "    return num_rois = len(rois_to_plot)"
   ]
  },
  {
   "cell_type": "code",
   "execution_count": null,
   "id": "b04a646c-4dc6-41fb-b73e-336189005c68",
   "metadata": {},
   "outputs": [],
   "source": [
    "# initialize templates for contour map\n",
    "def template_init(cell_ids, num_rois, s2p_data_dict):\n",
    "    \n",
    "    colors_roi = plt.cm.viridis(np.linspace(0,1,num_rois))\n",
    "    s2p_masks = np.empty([num_rois, s2p_data_dict['ops']['Ly'], s2p_data_dict['ops']['Lx']])\n",
    "    roi_centroids = np.empty([num_rois, 2])\n",
    "\n",
    "    # loop through ROIs and add their spatial footprints to template\n",
    "    for idx, roi_id in enumerate(cell_ids):\n",
    "\n",
    "        zero_template = np.zeros([s2p_data_dict['ops']['Ly'], s2p_data_dict['ops']['Lx']])\n",
    "        zero_template[ s2p_data_dict['stat'][roi_id]['ypix'], s2p_data_dict['stat'][roi_id]['xpix'] ] = 1\n",
    "        s2p_masks[idx,...] = zero_template\n",
    "\n",
    "        roi_centroids[idx,...] = [np.min(s2p_data_dict['stat'][roi_id]['ypix']), np.min(s2p_data_dict['stat'][roi_id]['xpix'])]\n",
    "\n",
    "        if idx == num_rois-1:\n",
    "            break\n"
   ]
  },
  {
   "cell_type": "code",
   "execution_count": null,
   "id": "744eef6e-3e08-47cf-adda-12ec6ade3678",
   "metadata": {},
   "outputs": [],
   "source": [
    "# plot contours and cell numbers on projection image\n",
    "def contour_plot(s2p_data_dict):\n",
    "    \n",
    "    to_plot = s2p_data_dict['ops']['meanImg']\n",
    "\n",
    "    fig, ax = plt.subplots(1, 1, figsize = (10,10))\n",
    "    ax.imshow(to_plot, cmap = 'gray', vmin=np.min(to_plot)*1.0, vmax=np.max(to_plot)*0.6)\n",
    "    ax.axis('off')\n",
    "\n",
    "    for idx, roi_id in enumerate(cell_ids): \n",
    "        ax.contour(s2p_masks[idx,:,:], colors=[colors_roi[idx]])\n",
    "        ax.text(roi_centroids[idx][1]-1, roi_centroids[idx][0]-1,  str(idx), fontsize=18, weight='bold', color = colors_roi[idx]);\n",
    "\n",
    "    plt.savefig(os.path.join(path_dict['fig_save_dir'], 'roi_contour_map.png'))\n",
    "    plt.savefig(os.path.join(path_dict['fig_save_dir'], 'roi_contour_map.pdf'))"
   ]
  },
  {
   "cell_type": "code",
   "execution_count": null,
   "id": "4399b71b-dd36-470a-8cce-82e35e5d3202",
   "metadata": {},
   "outputs": [],
   "source": [
    "# initialize variables for plotting time-series\n",
    "fs = s2p_data_dict['ops']['fs']\n",
    "num_samps = s2p_data_dict['ops']['nframes']\n",
    "total_time = num_samps/fs \n",
    "tvec = np.linspace(0,total_time,num_samps)"
   ]
  },
  {
   "cell_type": "code",
   "execution_count": null,
   "id": "71d19304-ec95-4a15-879a-d1e944433ada",
   "metadata": {},
   "outputs": [],
   "source": [
    "# F_npil_corr_dff contains all s2p-detected cells; cell_ids references those indices\n",
    "trace_data_selected = s2p_data_dict['F_npil_corr_dff'][cell_ids]\n",
    "\n",
    "\n",
    "fig, ax = plt.subplots(num_rois, 1, figsize = (9,2*num_rois))\n",
    "for idx in range(num_rois):\n",
    "    \n",
    "    to_plot = trace_data_selected[idx] \n",
    "    \n",
    "    ax[idx].plot(tvec, np.transpose( to_plot ), color = colors_roi[idx] );\n",
    "    \n",
    "    ax[idx].tick_params(axis='both', which='major', labelsize=13)\n",
    "    ax[idx].tick_params(axis='both', which='minor', labelsize=13)\n",
    "    if idx == np.ceil(num_rois/2-1):\n",
    "        ax[idx].set_ylabel('Fluorescence Level',fontsize = 20)\n",
    "        \n",
    "# Setting the values for all axes.\n",
    "if tseries_start_end is None:\n",
    "    xlims = [0,tvec[-1]]\n",
    "else:\n",
    "    xlims = tseries_start_end\n",
    "plt.setp(ax, xlim=xlims, ylim=[np.min(trace_data_selected)+np.min(trace_data_selected)*0.1, \n",
    "                                      np.max(trace_data_selected)+np.max(trace_data_selected)*0.1])  \n",
    "\n",
    "ax[idx].set_xlabel('Time (s)',fontsize = 20);\n",
    "\n",
    "plt.savefig(os.path.join(fig_save_dir, 'roi_ts.png'))\n",
    "plt.savefig(os.path.join(fig_save_dir, 'roi_ts.pdf'))"
   ]
  }
 ],
 "metadata": {
  "kernelspec": {
   "display_name": "Python 3 (ipykernel)",
   "language": "python",
   "name": "python3"
  },
  "language_info": {
   "codemirror_mode": {
    "name": "ipython",
    "version": 3
   },
   "file_extension": ".py",
   "mimetype": "text/x-python",
   "name": "python",
   "nbconvert_exporter": "python",
   "pygments_lexer": "ipython3",
   "version": "3.9.7"
  }
 },
 "nbformat": 4,
 "nbformat_minor": 5
}
