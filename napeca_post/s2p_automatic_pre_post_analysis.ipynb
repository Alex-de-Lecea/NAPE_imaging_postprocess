{
 "cells": [
  {
   "cell_type": "markdown",
   "id": "16f315bb",
   "metadata": {},
   "source": [
    "# User Variables\n",
    "Please input the required variables below"
   ]
  },
  {
   "cell_type": "code",
   "execution_count": 1,
   "id": "9bec541e",
   "metadata": {},
   "outputs": [
    {
     "name": "stdout",
     "output_type": "stream",
     "text": [
      "Requirement already satisfied: suite2p in c:\\users\\alex_dl\\anaconda3\\envs\\napeca_post\\lib\\site-packages (0.10.3)\n",
      "Requirement already satisfied: numba>=0.43.1 in c:\\users\\alex_dl\\anaconda3\\envs\\napeca_post\\lib\\site-packages (from suite2p) (0.55.1)\n",
      "Requirement already satisfied: scanimage-tiff-reader>=1.4.1 in c:\\users\\alex_dl\\anaconda3\\envs\\napeca_post\\lib\\site-packages (from suite2p) (1.4.1)\n",
      "Requirement already satisfied: scikit-learn in c:\\users\\alex_dl\\anaconda3\\envs\\napeca_post\\lib\\site-packages (from suite2p) (1.0.2)\n",
      "Requirement already satisfied: torch>=1.7.1 in c:\\users\\alex_dl\\anaconda3\\envs\\napeca_post\\lib\\site-packages (from suite2p) (1.11.0)\n",
      "Requirement already satisfied: natsort in c:\\users\\alex_dl\\anaconda3\\envs\\napeca_post\\lib\\site-packages (from suite2p) (8.1.0)\n",
      "Requirement already satisfied: numpy>=1.16 in c:\\users\\alex_dl\\anaconda3\\envs\\napeca_post\\lib\\site-packages (from suite2p) (1.21.6)\n",
      "Requirement already satisfied: paramiko in c:\\users\\alex_dl\\anaconda3\\envs\\napeca_post\\lib\\site-packages (from suite2p) (2.10.3)\n",
      "Requirement already satisfied: scipy>=1.4.0 in c:\\users\\alex_dl\\anaconda3\\envs\\napeca_post\\lib\\site-packages (from suite2p) (1.7.3)\n",
      "Requirement already satisfied: importlib-metadata in c:\\users\\alex_dl\\anaconda3\\envs\\napeca_post\\lib\\site-packages (from suite2p) (4.11.3)\n",
      "Requirement already satisfied: rastermap>0.1.0 in c:\\users\\alex_dl\\anaconda3\\envs\\napeca_post\\lib\\site-packages (from suite2p) (0.1.3)\n",
      "Requirement already satisfied: sbxreader in c:\\users\\alex_dl\\anaconda3\\envs\\napeca_post\\lib\\site-packages (from suite2p) (0.2.0)\n",
      "Requirement already satisfied: matplotlib in c:\\users\\alex_dl\\anaconda3\\envs\\napeca_post\\lib\\site-packages (from suite2p) (3.5.1)\n",
      "Requirement already satisfied: tifffile in c:\\users\\alex_dl\\anaconda3\\envs\\napeca_post\\lib\\site-packages (from suite2p) (2021.11.2)\n",
      "Requirement already satisfied: h5py in c:\\users\\alex_dl\\anaconda3\\envs\\napeca_post\\lib\\site-packages (from suite2p) (3.6.0)\n",
      "Requirement already satisfied: setuptools in c:\\users\\alex_dl\\anaconda3\\envs\\napeca_post\\lib\\site-packages (from numba>=0.43.1->suite2p) (60.9.3)\n",
      "Requirement already satisfied: llvmlite<0.39,>=0.38.0rc1 in c:\\users\\alex_dl\\anaconda3\\envs\\napeca_post\\lib\\site-packages (from numba>=0.43.1->suite2p) (0.38.0)\n",
      "Requirement already satisfied: pyqtgraph in c:\\users\\alex_dl\\anaconda3\\envs\\napeca_post\\lib\\site-packages (from rastermap>0.1.0->suite2p) (0.12.4)\n",
      "Requirement already satisfied: typing-extensions in c:\\users\\alex_dl\\anaconda3\\envs\\napeca_post\\lib\\site-packages (from torch>=1.7.1->suite2p) (4.1.1)\n",
      "Requirement already satisfied: cached-property in c:\\users\\alex_dl\\anaconda3\\envs\\napeca_post\\lib\\site-packages (from h5py->suite2p) (1.5.2)\n",
      "Requirement already satisfied: zipp>=0.5 in c:\\users\\alex_dl\\anaconda3\\envs\\napeca_post\\lib\\site-packages (from importlib-metadata->suite2p) (3.8.0)\n",
      "Requirement already satisfied: python-dateutil>=2.7 in c:\\users\\alex_dl\\anaconda3\\envs\\napeca_post\\lib\\site-packages (from matplotlib->suite2p) (2.8.2)\n",
      "Requirement already satisfied: kiwisolver>=1.0.1 in c:\\users\\alex_dl\\anaconda3\\envs\\napeca_post\\lib\\site-packages (from matplotlib->suite2p) (1.4.2)\n",
      "Requirement already satisfied: fonttools>=4.22.0 in c:\\users\\alex_dl\\anaconda3\\envs\\napeca_post\\lib\\site-packages (from matplotlib->suite2p) (4.32.0)\n",
      "Requirement already satisfied: packaging>=20.0 in c:\\users\\alex_dl\\anaconda3\\envs\\napeca_post\\lib\\site-packages (from matplotlib->suite2p) (21.3)\n",
      "Requirement already satisfied: pyparsing>=2.2.1 in c:\\users\\alex_dl\\anaconda3\\envs\\napeca_post\\lib\\site-packages (from matplotlib->suite2p) (3.0.8)\n",
      "Requirement already satisfied: pillow>=6.2.0 in c:\\users\\alex_dl\\anaconda3\\envs\\napeca_post\\lib\\site-packages (from matplotlib->suite2p) (9.1.0)\n",
      "Requirement already satisfied: cycler>=0.10 in c:\\users\\alex_dl\\anaconda3\\envs\\napeca_post\\lib\\site-packages (from matplotlib->suite2p) (0.11.0)\n",
      "Requirement already satisfied: cryptography>=2.5 in c:\\users\\alex_dl\\anaconda3\\envs\\napeca_post\\lib\\site-packages (from paramiko->suite2p) (36.0.2)\n",
      "Requirement already satisfied: six in c:\\users\\alex_dl\\anaconda3\\envs\\napeca_post\\lib\\site-packages (from paramiko->suite2p) (1.16.0)\n",
      "Requirement already satisfied: bcrypt>=3.1.3 in c:\\users\\alex_dl\\anaconda3\\envs\\napeca_post\\lib\\site-packages (from paramiko->suite2p) (3.2.0)\n",
      "Requirement already satisfied: pynacl>=1.0.1 in c:\\users\\alex_dl\\anaconda3\\envs\\napeca_post\\lib\\site-packages (from paramiko->suite2p) (1.5.0)\n",
      "Requirement already satisfied: threadpoolctl>=2.0.0 in c:\\users\\alex_dl\\anaconda3\\envs\\napeca_post\\lib\\site-packages (from scikit-learn->suite2p) (3.1.0)\n",
      "Requirement already satisfied: joblib>=0.11 in c:\\users\\alex_dl\\anaconda3\\envs\\napeca_post\\lib\\site-packages (from scikit-learn->suite2p) (1.1.0)\n",
      "Requirement already satisfied: cffi>=1.1 in c:\\users\\alex_dl\\anaconda3\\envs\\napeca_post\\lib\\site-packages (from bcrypt>=3.1.3->paramiko->suite2p) (1.15.0)\n",
      "Requirement already satisfied: pycparser in c:\\users\\alex_dl\\anaconda3\\envs\\napeca_post\\lib\\site-packages (from cffi>=1.1->bcrypt>=3.1.3->paramiko->suite2p) (2.21)\n",
      "Note: you may need to restart the kernel to use updated packages.\n"
     ]
    }
   ],
   "source": [
    "%pip install suite2p"
   ]
  },
  {
   "cell_type": "code",
   "execution_count": 2,
   "id": "23558847-7b9a-46ff-9860-e7db527f19e6",
   "metadata": {},
   "outputs": [
    {
     "name": "stdout",
     "output_type": "stream",
     "text": [
      "Warning: cellpose did not import\n",
      "No module named 'cellpose'\n",
      "cannot use anatomical mode, but otherwise suite2p will run normally\n"
     ]
    }
   ],
   "source": [
    "import os\n",
    "from pathlib import Path\n",
    "import matplotlib.pyplot as plt\n",
    "import numpy as np\n",
    "\n",
    "import s2p_vis_func\n",
    "import s2p_con_func\n",
    "import s2p_plot_rois_funcs\n",
    "\n",
    "import suite2p"
   ]
  },
  {
   "cell_type": "code",
   "execution_count": 3,
   "id": "0e94ab3e",
   "metadata": {},
   "outputs": [],
   "source": [
    "ops = suite2p.default_ops()\n",
    "ops['fs'] = 13 # sampling rate of recording, determines binning for cell detection\n",
    "ops['tau'] = 1.25 # timescale of gcamp to use for deconvolution\n",
    "ops['threshold_scaling'] =  [0.6, 0.8] # set however many desired threshold_scaling values you wish to test\n",
    "\n",
    "#The user must now choose which threshold scaling\n",
    "#value they prefer\n",
    "desired_threshold_scaling = 0.8\n",
    "fname = '59879-0 666um 200pwr 10xobj 4frm avg suc70 quin30-000'\n",
    "fdir =  r'C:\\Users\\Alex_dl\\Documents\\GitHub\\NAPE_imaging_postprocess\\napeca_post\\sample_data'\n",
    "tseries_start_end = [0, 100]\n",
    "rois_to_plot = 50"
   ]
  },
  {
   "cell_type": "code",
   "execution_count": 4,
   "id": "0c94e543-f6da-44a1-8cf9-20ce27b61372",
   "metadata": {},
   "outputs": [
    {
     "name": "stderr",
     "output_type": "stream",
     "text": [
      "C:\\Users\\Alex_dl\\anaconda3\\envs\\napeca_post\\lib\\site-packages\\ipykernel_launcher.py:14: MatplotlibDeprecationWarning: You are modifying the state of a globally registered colormap. This has been deprecated since 3.3 and in 3.6, you will not be able to modify a registered colormap in-place. To remove this warning, you can make a copy of the colormap first. cmap = mpl.cm.get_cmap(\"jet\").copy()\n",
      "  \n"
     ]
    }
   ],
   "source": [
    "import matplotlib as mpl\n",
    "mpl.rcParams.update({\n",
    "    'axes.spines.left': True,\n",
    "    'axes.spines.bottom': True,\n",
    "    'axes.spines.top': False,\n",
    "    'axes.spines.right': False,\n",
    "    'legend.frameon': False,\n",
    "    'figure.subplot.wspace': .01,\n",
    "    'figure.subplot.hspace': .01,\n",
    "    'figure.figsize': (18, 13),\n",
    "    'ytick.major.left': True,\n",
    "})\n",
    "jet = mpl.cm.get_cmap('jet')\n",
    "jet.set_bad(color='k')"
   ]
  },
  {
   "cell_type": "code",
   "execution_count": 5,
   "id": "52b7bc70-eb71-45e7-b82d-f570979b69c7",
   "metadata": {},
   "outputs": [
    {
     "name": "stdout",
     "output_type": "stream",
     "text": [
      "{'data_path': ['C:\\\\Users\\\\Alex_dl\\\\Documents\\\\GitHub\\\\NAPE_imaging_postprocess\\\\napeca_post\\\\sample_data']}\n"
     ]
    }
   ],
   "source": [
    "db = {\n",
    "    'data_path': [fdir],\n",
    "}\n",
    "print(db)"
   ]
  },
  {
   "cell_type": "code",
   "execution_count": 6,
   "id": "c7a07c5e-d745-4e1a-8d80-2cff54c046fc",
   "metadata": {},
   "outputs": [
    {
     "name": "stdout",
     "output_type": "stream",
     "text": [
      "{'data_path': ['C:\\\\Users\\\\Alex_dl\\\\Documents\\\\GitHub\\\\NAPE_imaging_postprocess\\\\napeca_post\\\\sample_data']}\n",
      "tif\n",
      "** Found 1 tifs - converting to binary **\n",
      "2000 frames of binary, time 5.65 sec.\n",
      "4000 frames of binary, time 10.38 sec.\n"
     ]
    },
    {
     "ename": "KeyboardInterrupt",
     "evalue": "",
     "output_type": "error",
     "traceback": [
      "\u001b[1;31m---------------------------------------------------------------------------\u001b[0m",
      "\u001b[1;31mKeyboardInterrupt\u001b[0m                         Traceback (most recent call last)",
      "\u001b[1;32m~\\AppData\\Local\\Temp\\ipykernel_21844\\3731552534.py\u001b[0m in \u001b[0;36m<module>\u001b[1;34m\u001b[0m\n\u001b[0;32m      8\u001b[0m     \u001b[0moutput_ops\u001b[0m\u001b[1;33m[\u001b[0m\u001b[1;34m'save_path'\u001b[0m\u001b[1;33m]\u001b[0m \u001b[1;33m=\u001b[0m \u001b[0mos\u001b[0m\u001b[1;33m.\u001b[0m\u001b[0mpath\u001b[0m\u001b[1;33m.\u001b[0m\u001b[0mjoin\u001b[0m\u001b[1;33m(\u001b[0m\u001b[0mbase_dir\u001b[0m\u001b[1;33m,\u001b[0m \u001b[1;34mf'threshold_scaling_{threshold_scaling_values}'\u001b[0m\u001b[1;33m)\u001b[0m\u001b[1;33m\u001b[0m\u001b[1;33m\u001b[0m\u001b[0m\n\u001b[0;32m      9\u001b[0m     \u001b[0mops\u001b[0m\u001b[1;33m[\u001b[0m\u001b[1;34m'save_folder'\u001b[0m\u001b[1;33m]\u001b[0m \u001b[1;33m=\u001b[0m \u001b[1;34mf'threshold_scaling_{threshold_scaling_values}'\u001b[0m\u001b[1;33m\u001b[0m\u001b[1;33m\u001b[0m\u001b[0m\n\u001b[1;32m---> 10\u001b[1;33m     \u001b[0moutput_ops\u001b[0m \u001b[1;33m=\u001b[0m \u001b[0msuite2p\u001b[0m\u001b[1;33m.\u001b[0m\u001b[0mrun_s2p\u001b[0m\u001b[1;33m(\u001b[0m\u001b[0mops\u001b[0m\u001b[1;33m=\u001b[0m\u001b[0mops\u001b[0m\u001b[1;33m,\u001b[0m \u001b[0mdb\u001b[0m\u001b[1;33m=\u001b[0m\u001b[0mdb\u001b[0m\u001b[1;33m)\u001b[0m\u001b[1;33m\u001b[0m\u001b[1;33m\u001b[0m\u001b[0m\n\u001b[0m\u001b[0;32m     11\u001b[0m \u001b[1;33m\u001b[0m\u001b[0m\n\u001b[0;32m     12\u001b[0m     \u001b[0moutput_fig_dir\u001b[0m \u001b[1;33m=\u001b[0m \u001b[0mos\u001b[0m\u001b[1;33m.\u001b[0m\u001b[0mpath\u001b[0m\u001b[1;33m.\u001b[0m\u001b[0mjoin\u001b[0m\u001b[1;33m(\u001b[0m\u001b[0mbase_dir\u001b[0m\u001b[1;33m,\u001b[0m \u001b[1;34m's2p_analysis'\u001b[0m\u001b[1;33m)\u001b[0m\u001b[1;33m\u001b[0m\u001b[1;33m\u001b[0m\u001b[0m\n",
      "\u001b[1;32m~\\anaconda3\\envs\\napeca_post\\lib\\site-packages\\suite2p\\run_s2p.py\u001b[0m in \u001b[0;36mrun_s2p\u001b[1;34m(ops, db, server)\u001b[0m\n\u001b[0;32m    411\u001b[0m                 \u001b[0mops0\u001b[0m \u001b[1;33m=\u001b[0m \u001b[0mops0\u001b[0m\u001b[1;33m[\u001b[0m\u001b[1;36m0\u001b[0m\u001b[1;33m]\u001b[0m\u001b[1;33m\u001b[0m\u001b[1;33m\u001b[0m\u001b[0m\n\u001b[0;32m    412\u001b[0m         \u001b[1;32melse\u001b[0m\u001b[1;33m:\u001b[0m\u001b[1;33m\u001b[0m\u001b[1;33m\u001b[0m\u001b[0m\n\u001b[1;32m--> 413\u001b[1;33m             \u001b[0mops0\u001b[0m \u001b[1;33m=\u001b[0m \u001b[0mio\u001b[0m\u001b[1;33m.\u001b[0m\u001b[0mtiff_to_binary\u001b[0m\u001b[1;33m(\u001b[0m\u001b[0mops\u001b[0m\u001b[1;33m.\u001b[0m\u001b[0mcopy\u001b[0m\u001b[1;33m(\u001b[0m\u001b[1;33m)\u001b[0m\u001b[1;33m)\u001b[0m\u001b[1;33m\u001b[0m\u001b[1;33m\u001b[0m\u001b[0m\n\u001b[0m\u001b[0;32m    414\u001b[0m         \u001b[0mplane_folders\u001b[0m \u001b[1;33m=\u001b[0m \u001b[0mnatsorted\u001b[0m\u001b[1;33m(\u001b[0m\u001b[1;33m[\u001b[0m \u001b[0mf\u001b[0m\u001b[1;33m.\u001b[0m\u001b[0mpath\u001b[0m \u001b[1;32mfor\u001b[0m \u001b[0mf\u001b[0m \u001b[1;32min\u001b[0m \u001b[0mos\u001b[0m\u001b[1;33m.\u001b[0m\u001b[0mscandir\u001b[0m\u001b[1;33m(\u001b[0m\u001b[0msave_folder\u001b[0m\u001b[1;33m)\u001b[0m \u001b[1;32mif\u001b[0m \u001b[0mf\u001b[0m\u001b[1;33m.\u001b[0m\u001b[0mis_dir\u001b[0m\u001b[1;33m(\u001b[0m\u001b[1;33m)\u001b[0m \u001b[1;32mand\u001b[0m \u001b[0mf\u001b[0m\u001b[1;33m.\u001b[0m\u001b[0mname\u001b[0m\u001b[1;33m[\u001b[0m\u001b[1;33m:\u001b[0m\u001b[1;36m5\u001b[0m\u001b[1;33m]\u001b[0m\u001b[1;33m==\u001b[0m\u001b[1;34m'plane'\u001b[0m\u001b[1;33m]\u001b[0m\u001b[1;33m)\u001b[0m\u001b[1;33m\u001b[0m\u001b[1;33m\u001b[0m\u001b[0m\n\u001b[0;32m    415\u001b[0m         \u001b[0mops_paths\u001b[0m \u001b[1;33m=\u001b[0m \u001b[1;33m[\u001b[0m\u001b[0mos\u001b[0m\u001b[1;33m.\u001b[0m\u001b[0mpath\u001b[0m\u001b[1;33m.\u001b[0m\u001b[0mjoin\u001b[0m\u001b[1;33m(\u001b[0m\u001b[0mf\u001b[0m\u001b[1;33m,\u001b[0m \u001b[1;34m'ops.npy'\u001b[0m\u001b[1;33m)\u001b[0m \u001b[1;32mfor\u001b[0m \u001b[0mf\u001b[0m \u001b[1;32min\u001b[0m \u001b[0mplane_folders\u001b[0m\u001b[1;33m]\u001b[0m\u001b[1;33m\u001b[0m\u001b[1;33m\u001b[0m\u001b[0m\n",
      "\u001b[1;32m~\\anaconda3\\envs\\napeca_post\\lib\\site-packages\\suite2p\\io\\tiff.py\u001b[0m in \u001b[0;36mtiff_to_binary\u001b[1;34m(ops)\u001b[0m\n\u001b[0;32m    181\u001b[0m                 \u001b[0mim2write\u001b[0m \u001b[1;33m=\u001b[0m \u001b[0mim\u001b[0m\u001b[1;33m[\u001b[0m\u001b[0mint\u001b[0m\u001b[1;33m(\u001b[0m\u001b[0mi0\u001b[0m\u001b[1;33m)\u001b[0m\u001b[1;33m+\u001b[0m\u001b[0mnfunc\u001b[0m\u001b[1;33m:\u001b[0m\u001b[0mnframes\u001b[0m\u001b[1;33m:\u001b[0m\u001b[0mnplanes\u001b[0m\u001b[1;33m*\u001b[0m\u001b[0mnchannels\u001b[0m\u001b[1;33m]\u001b[0m\u001b[1;33m\u001b[0m\u001b[1;33m\u001b[0m\u001b[0m\n\u001b[0;32m    182\u001b[0m \u001b[1;33m\u001b[0m\u001b[0m\n\u001b[1;32m--> 183\u001b[1;33m                 \u001b[0mreg_file\u001b[0m\u001b[1;33m[\u001b[0m\u001b[0mj\u001b[0m\u001b[1;33m]\u001b[0m\u001b[1;33m.\u001b[0m\u001b[0mwrite\u001b[0m\u001b[1;33m(\u001b[0m\u001b[0mbytearray\u001b[0m\u001b[1;33m(\u001b[0m\u001b[0mim2write\u001b[0m\u001b[1;33m)\u001b[0m\u001b[1;33m)\u001b[0m\u001b[1;33m\u001b[0m\u001b[1;33m\u001b[0m\u001b[0m\n\u001b[0m\u001b[0;32m    184\u001b[0m                 \u001b[0mops1\u001b[0m\u001b[1;33m[\u001b[0m\u001b[0mj\u001b[0m\u001b[1;33m]\u001b[0m\u001b[1;33m[\u001b[0m\u001b[1;34m'meanImg'\u001b[0m\u001b[1;33m]\u001b[0m \u001b[1;33m+=\u001b[0m \u001b[0mim2write\u001b[0m\u001b[1;33m.\u001b[0m\u001b[0mastype\u001b[0m\u001b[1;33m(\u001b[0m\u001b[0mnp\u001b[0m\u001b[1;33m.\u001b[0m\u001b[0mfloat32\u001b[0m\u001b[1;33m)\u001b[0m\u001b[1;33m.\u001b[0m\u001b[0msum\u001b[0m\u001b[1;33m(\u001b[0m\u001b[0maxis\u001b[0m\u001b[1;33m=\u001b[0m\u001b[1;36m0\u001b[0m\u001b[1;33m)\u001b[0m\u001b[1;33m\u001b[0m\u001b[1;33m\u001b[0m\u001b[0m\n\u001b[0;32m    185\u001b[0m                 \u001b[0mops1\u001b[0m\u001b[1;33m[\u001b[0m\u001b[0mj\u001b[0m\u001b[1;33m]\u001b[0m\u001b[1;33m[\u001b[0m\u001b[1;34m'nframes'\u001b[0m\u001b[1;33m]\u001b[0m \u001b[1;33m+=\u001b[0m \u001b[0mim2write\u001b[0m\u001b[1;33m.\u001b[0m\u001b[0mshape\u001b[0m\u001b[1;33m[\u001b[0m\u001b[1;36m0\u001b[0m\u001b[1;33m]\u001b[0m\u001b[1;33m\u001b[0m\u001b[1;33m\u001b[0m\u001b[0m\n",
      "\u001b[1;31mKeyboardInterrupt\u001b[0m: "
     ]
    }
   ],
   "source": [
    "output_ops={}\n",
    "output_ops['save_path'] = db['data_path'][0]\n",
    "base_dir = output_ops['save_path']\n",
    "for threshold_scaling_values in ops['threshold_scaling']:\n",
    "    ops['threshold_scaling'] = threshold_scaling_values\n",
    "    \n",
    "    #deals with creating and saving outputs into correct folders\n",
    "    output_ops['save_path'] = os.path.join(base_dir, f'threshold_scaling_{threshold_scaling_values}')\n",
    "    ops['save_folder'] = f'threshold_scaling_{threshold_scaling_values}'\n",
    "    output_ops = suite2p.run_s2p(ops=ops, db=db)\n",
    "    \n",
    "    output_fig_dir = os.path.join(base_dir, 's2p_analysis')\n",
    "\n",
    "    #functions that output the Registration visualizations(only outputs once)\n",
    "    if not os.path.exists(output_fig_dir):\n",
    "        s2p_vis_func.check_exist_dir(output_fig_dir)\n",
    "        s2p_vis_func.reg_ref_imgs(output_ops, output_fig_dir)\n",
    "        s2p_vis_func.reg_displacement_vis(output_ops, output_fig_dir)\n",
    "    \n",
    "    #functions that output the ROI detections visualizations\n",
    "    s2p_vis_func.roi_mask_vis(output_ops, output_fig_dir, threshold_scaling_values)\n",
    "    s2p_vis_func.roi_trace_vis(output_ops, output_fig_dir, threshold_scaling_values)\n",
    "\n",
    "    #functions that output the post-processed roi_plots based on the desired number of ROI's\n",
    "    path_dict = s2p_plot_rois_funcs.define_paths_roi_plots(fdir, threshold_scaling_values, tseries_start_end, rois_to_plot, output_fig_dir)\n",
    "    s2p_data_dict = s2p_plot_rois_funcs.load_s2p_data_roi_plots(path_dict)\n",
    "    plot_vars = s2p_plot_rois_funcs.plotting_rois(s2p_data_dict, path_dict)\n",
    "    s2p_plot_rois_funcs.template_init(plot_vars, s2p_data_dict)\n",
    "    s2p_plot_rois_funcs.contour_plot(s2p_data_dict, path_dict, plot_vars)\n",
    "    s2p_plot_rois_funcs.time_series_plot(s2p_data_dict, path_dict, plot_vars)\n",
    "\n",
    "    #function that converts the s2p output files into csv and npy files for further post-processing\n",
    "    s2p_con_func.csv_npy_save(fdir, fname, threshold_scaling_values)"
   ]
  },
  {
   "cell_type": "code",
   "execution_count": 9,
   "id": "bdbb3e8d",
   "metadata": {},
   "outputs": [],
   "source": [
    "s2p_con_func.csv_npy_save(fdir, fname, 0.8)"
   ]
  }
 ],
 "metadata": {
  "kernelspec": {
   "display_name": "Python 3 (ipykernel)",
   "language": "python",
   "name": "python3"
  },
  "language_info": {
   "codemirror_mode": {
    "name": "ipython",
    "version": 3
   },
   "file_extension": ".py",
   "mimetype": "text/x-python",
   "name": "python",
   "nbconvert_exporter": "python",
   "pygments_lexer": "ipython3",
   "version": "3.7.12"
  }
 },
 "nbformat": 4,
 "nbformat_minor": 5
}
