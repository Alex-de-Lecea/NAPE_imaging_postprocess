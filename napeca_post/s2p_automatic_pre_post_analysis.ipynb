{
 "cells": [
  {
   "cell_type": "code",
   "execution_count": null,
   "id": "9bec541e",
   "metadata": {},
   "outputs": [],
   "source": [
    "%pip install suite2p"
   ]
  },
  {
   "cell_type": "code",
   "execution_count": null,
   "id": "23558847-7b9a-46ff-9860-e7db527f19e6",
   "metadata": {},
   "outputs": [],
   "source": [
    "import os\n",
    "from pathlib import Path\n",
    "import matplotlib.pyplot as plt\n",
    "import numpy as np\n",
    "\n",
    "import s2p_vis_func\n",
    "import s2p_con_func\n",
    "import s2p_plot_rois_activity_funcs\n",
    "\n",
    "import suite2p"
   ]
  },
  {
   "cell_type": "markdown",
   "id": "16f315bb",
   "metadata": {},
   "source": [
    "# User Variables\n",
    "Please input the required variables below\n",
    "\n",
    "threshold_scaling: a parameter for the suite2p pre-processing that determines the threshold for what the algorithm considers to be an ROI. You can input as many values as you like into the list and the program will output the visualizations for all of them. We recommend values from around 0.4 to 2.0. The higher the number, the higher the threshold for what is considered an ROI and thus, less ROI's will be detected\n",
    "\n",
    "fname: The file name of the data you wish to process. Please remember to place it inside quotes as shown below\n",
    "\n",
    "fdir: The name of the path, or directory, of the data file you wish to process. IMPORTANT: keep the r before the quotes and leave off the last backslash\n",
    "\n",
    "tseries_start_end: the timescale you wish to see for the visualization of the ROI traces. If you type None in the brackets the whole session will be processed\n",
    "\n",
    "rois_to_plot: can either be an integer with the number of ROI's you wish to see plotted, a list with the specific ROI numbers, or if you type None all of the ROI's will be shown"
   ]
  },
  {
   "cell_type": "code",
   "execution_count": null,
   "id": "0e94ab3e",
   "metadata": {},
   "outputs": [],
   "source": [
    "ops = suite2p.default_ops()\n",
    "ops['fs'] = 13 # sampling rate of recording, determines binning for cell detection\n",
    "ops['tau'] = 1.25 # timescale of gcamp to use for deconvolution\n",
    "ops['threshold_scaling'] =  [0.6, 0.8] # set however many desired threshold_scaling values you wish to test\n",
    "\n",
    "fname = '59879-0 666um 200pwr 10xobj 4frm avg suc70 quin30-000'\n",
    "fdir =  r'C:\\Users\\Alex_dl\\Documents\\GitHub\\NAPE_imaging_postprocess\\napeca_post\\sample_data'\n",
    "tseries_start_end = [0, 100]\n",
    "rois_to_plot = 50"
   ]
  },
  {
   "cell_type": "code",
   "execution_count": null,
   "id": "0c94e543-f6da-44a1-8cf9-20ce27b61372",
   "metadata": {},
   "outputs": [],
   "source": [
    "import matplotlib as mpl\n",
    "mpl.rcParams.update({\n",
    "    'axes.spines.left': True,\n",
    "    'axes.spines.bottom': True,\n",
    "    'axes.spines.top': False,\n",
    "    'axes.spines.right': False,\n",
    "    'legend.frameon': False,\n",
    "    'figure.subplot.wspace': .01,\n",
    "    'figure.subplot.hspace': .01,\n",
    "    'figure.figsize': (18, 13),\n",
    "    'ytick.major.left': True,\n",
    "})\n",
    "jet = mpl.cm.get_cmap('jet')\n",
    "jet.set_bad(color='k')"
   ]
  },
  {
   "cell_type": "code",
   "execution_count": null,
   "id": "52b7bc70-eb71-45e7-b82d-f570979b69c7",
   "metadata": {},
   "outputs": [],
   "source": [
    "db = {\n",
    "    'data_path': [fdir],\n",
    "}\n",
    "print(db)"
   ]
  },
  {
   "cell_type": "code",
   "execution_count": null,
   "id": "c7a07c5e-d745-4e1a-8d80-2cff54c046fc",
   "metadata": {},
   "outputs": [],
   "source": [
    "output_ops={}\n",
    "output_ops['save_path'] = db['data_path'][0]\n",
    "base_dir = output_ops['save_path']\n",
    "for threshold_scaling_value in ops['threshold_scaling']:\n",
    "    ops['threshold_scaling'] = threshold_scaling_value\n",
    "    \n",
    "    #deals with creating and saving outputs into correct folders\n",
    "    output_ops['save_path'] = os.path.join(base_dir, f'{fname}_{threshold_scaling_value}')\n",
    "    ops['save_folder'] = f'{fname}_{threshold_scaling_value}'\n",
    "    output_ops = suite2p.run_s2p(ops=ops, db=db)\n",
    "    \n",
    "    output_fig_dir = os.path.join(base_dir, 's2p_analysis')\n",
    "\n",
    "    #functions that output the Registration visualizations(only outputs once)\n",
    "    if not os.path.exists(output_fig_dir):\n",
    "        s2p_vis_func.check_exist_dir(output_fig_dir)\n",
    "        s2p_vis_func.reg_ref_imgs(output_ops, output_fig_dir)\n",
    "        s2p_vis_func.reg_displacement_vis(output_ops, output_fig_dir)\n",
    "    \n",
    "    #functions that output the ROI detections visualizations\n",
    "    s2p_vis_func.roi_mask_vis(output_ops, output_fig_dir, threshold_scaling_value)\n",
    "    s2p_vis_func.roi_trace_vis(output_ops, output_fig_dir, threshold_scaling_value)\n",
    "\n",
    "    #functions that output the post-processed roi_plots based on the desired number of ROI's\n",
    "    path_dict = {}\n",
    "    path_dict['threshold_scaling_value'] = threshold_scaling_value\n",
    "    path_dict['s2p_dir'] = os.path.join(fdir, f'{fname}_{threshold_scaling_value}', 'plane0')\n",
    "    path_dict = s2p_plot_rois_activity_funcs.define_paths_roi_plots(path_dict, tseries_start_end, rois_to_plot, output_fig_dir)\n",
    "    s2p_data_dict = s2p_plot_rois_activity_funcs.load_s2p_data_roi_plots(path_dict)\n",
    "    plot_vars = s2p_plot_rois_activity_funcs.plotting_rois(s2p_data_dict, path_dict)\n",
    "    s2p_plot_rois_activity_funcs.masks_init(plot_vars, s2p_data_dict)\n",
    "    s2p_plot_rois_activity_funcs.contour_plot(s2p_data_dict, path_dict, plot_vars)\n",
    "    s2p_plot_rois_activity_funcs.time_series_plot(s2p_data_dict, path_dict, plot_vars)"
   ]
  }
 ],
 "metadata": {
  "kernelspec": {
   "display_name": "Python 3 (ipykernel)",
   "language": "python",
   "name": "python3"
  },
  "language_info": {
   "codemirror_mode": {
    "name": "ipython",
    "version": 3
   },
   "file_extension": ".py",
   "mimetype": "text/x-python",
   "name": "python",
   "nbconvert_exporter": "python",
   "pygments_lexer": "ipython3",
   "version": "3.7.12"
  }
 },
 "nbformat": 4,
 "nbformat_minor": 5
}
