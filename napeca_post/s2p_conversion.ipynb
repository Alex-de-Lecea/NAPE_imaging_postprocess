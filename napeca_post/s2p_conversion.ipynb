{
 "cells": [
  {
   "cell_type": "markdown",
   "metadata": {},
   "source": [
    "## What does this script do:\n",
    "\n",
    "#### Section 1) Converts Suite2p extracted ROI traces and neuropil data output into a numpy or csv file ready for downstream event-related analysis\n",
    "\n",
    "#### Section 2) Create a pickle file containing a dictionary where each key represents a condition/event-type in the session and the corresponding values are lists containing time stamps of each event in samples"
   ]
  },
  {
   "cell_type": "markdown",
   "metadata": {},
   "source": [
    "## Section 1"
   ]
  },
  {
   "cell_type": "code",
   "execution_count": null,
   "metadata": {},
   "outputs": [],
   "source": [
    "import numpy as np\n",
    "import pickle as pkl\n",
    "import os\n",
    "import pandas as pd"
   ]
  },
  {
   "cell_type": "code",
   "execution_count": null,
   "metadata": {},
   "outputs": [],
   "source": [
    "\"\"\"\n",
    "\n",
    "USER DEFINE VARIABLES\n",
    "\n",
    "fdir: string\n",
    "Directory where the root raw data resides in (not the suite2p output folder)\n",
    "\n",
    "fname: string\n",
    "root name of the raw data (without file extensions). Will ultimately dictate the base name of the saved files\n",
    "\n",
    "\"\"\"\n",
    "\n",
    "fdir = r'D:\\olympus_data\\Kali\\2P Trials for Charles\\2022_02_04\\fish2_HeatLaser_newHb_30sBaseline_5sLaser_ConcatenatedNoBaseline'\n",
    "fname = 'fish2_HeatLaser_newHb_30sBaseline_5sLaser_ConcatenatedNoBaseline'"
   ]
  },
  {
   "cell_type": "code",
   "execution_count": null,
   "metadata": {},
   "outputs": [],
   "source": [
    "# define paths for loading s2p data\n",
    "s2p_dir = os.path.join(fdir, 'suite2p', 'plane0')\n",
    "s2p_F_path = os.path.join(s2p_dir, 'F.npy')\n",
    "s2p_Fneu_path = os.path.join(s2p_dir, 'Fneu.npy')\n",
    "s2p_iscell_path = os.path.join(s2p_dir, 'iscell.npy')\n",
    "s2p_ops_path = os.path.join(s2p_dir, 'ops.npy')\n",
    "\n",
    "# define savepaths for converted output data\n",
    "csv_savepath = os.path.join(fdir, 'suite2p', 'plane0', \"{}_s2p_data.csv\".format(fname))\n",
    "npy_savepath = os.path.join(s2p_dir, fname+'_neuropil_corrected_signals.npy')"
   ]
  },
  {
   "cell_type": "code",
   "execution_count": null,
   "metadata": {},
   "outputs": [],
   "source": [
    "# load s2p data\n",
    "F_data = np.load(s2p_F_path, allow_pickle=True)\n",
    "Fneu_data = np.load(s2p_Fneu_path, allow_pickle=True)\n",
    "iscell_data = np.load(s2p_iscell_path, allow_pickle=True)\n",
    "ops_data = np.load(s2p_ops_path, allow_pickle=True).item()"
   ]
  },
  {
   "cell_type": "code",
   "execution_count": null,
   "metadata": {},
   "outputs": [],
   "source": [
    "npil_corr_signals = F_data - ops_data['neucoeff'] * Fneu_data\n",
    "\n",
    "iscell_npil_corr_data = npil_corr_signals[iscell_data[:,0].astype('bool'),:]"
   ]
  },
  {
   "cell_type": "code",
   "execution_count": null,
   "metadata": {},
   "outputs": [],
   "source": [
    "# save cell activity data as a csv with ROIs on y axis and samples on x axis\n",
    "np.save(npy_savepath, iscell_npil_corr_data) # this saves the user-curated neuropil corrected signals as an npy file\n",
    "pd.DataFrame(data=iscell_npil_corr_data).to_csv(csv_savepath, index=False, header=False) # this saves the same data as a csv file"
   ]
  },
  {
   "cell_type": "markdown",
   "metadata": {},
   "source": [
    "## Section 2: Make behavioral event timing dictionary\n",
    "\n",
    "Directions:\n",
    "\n",
    "1) Adjust the sampling rate (fs) according to your recording parameters\n",
    "\n",
    "2) Duplicate the line in the 2nd code block below (event_frames line) such that you have the same number of duplicates as you have trial conditions in your session\n",
    "\n",
    "3) Rename the keys of the dictionary (ie. the string in the first square brackets) to your desired condition names; For example if you have a sucrose condition, replace the 'poke' string with 'sucrose'\n",
    "\n",
    "4) Update the list on the right side of the equation to reflect the time stamps (in seconds) for the events that occur for that specific condition.\n",
    "\n",
    "For example if your sucrose deliveries occurred at 10, 15, and 20 seconds after the onset of the recording, and a set of quinine deliveries at 13, 17, 25 you would have a couple of lines looking like this:\n",
    "\n",
    "`event_frames['sucrose'] = np.rint(np.array([10, 15, 20])*fs)\n",
    "event_frames['quinine'] = np.rint(np.array([13, 17, 25])*fs)\n",
    "`"
   ]
  },
  {
   "cell_type": "code",
   "execution_count": null,
   "metadata": {},
   "outputs": [],
   "source": [
    "event_frames = {}\n",
    "fs = 0.919 # sampling rate"
   ]
  },
  {
   "cell_type": "code",
   "execution_count": null,
   "metadata": {},
   "outputs": [],
   "source": [
    "event_frames['poke'] = np.rint(np.array([30, 60, 90])*fs)\n",
    "event_frames['drug'] = np.rint(np.array([30, 60, 90])*fs)"
   ]
  },
  {
   "cell_type": "code",
   "execution_count": null,
   "metadata": {},
   "outputs": [],
   "source": [
    "# save dictionary into pickle\n",
    "with open(os.path.join(s2p_dir, 'framenumberforevents_'+fname+'.pkl'), 'wb') as handle:\n",
    "    pkl.dump(event_frames, handle, protocol=4) #pkl.HIGHEST_PROTOCOL"
   ]
  }
 ],
 "metadata": {
  "kernelspec": {
   "display_name": "Python 3 (ipykernel)",
   "language": "python",
   "name": "python3"
  },
  "language_info": {
   "codemirror_mode": {
    "name": "ipython",
    "version": 3
   },
   "file_extension": ".py",
   "mimetype": "text/x-python",
   "name": "python",
   "nbconvert_exporter": "python",
   "pygments_lexer": "ipython3",
   "version": "3.7.12"
  }
 },
 "nbformat": 4,
 "nbformat_minor": 2
}
