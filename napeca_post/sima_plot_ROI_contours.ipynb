{
 "cells": [
  {
   "cell_type": "code",
   "execution_count": null,
   "metadata": {},
   "outputs": [],
   "source": [
    "import os\n",
    "import numpy as np\n",
    "import h5py\n",
    "import pandas as pd\n",
    "import pickle\n",
    "import numpy as np\n",
    "from PIL import Image\n",
    "\n",
    "import matplotlib.pyplot as plt\n",
    "plt.rcParams['text.usetex'] = False\n",
    "plt.rcParams['text.latex.unicode'] = False\n",
    "import matplotlib\n",
    "# important for text to be detecting when importing saved figures into illustrator\n",
    "matplotlib.rcParams['pdf.fonttype'] = 42\n",
    "matplotlib.rcParams['ps.fonttype'] = 42\n",
    "plt.rcParams[\"font.family\"] = \"Arial\""
   ]
  },
  {
   "cell_type": "code",
   "execution_count": null,
   "metadata": {},
   "outputs": [],
   "source": [
    "# important arguments; USER DEFINED VARIABLES\n",
    "raw_npilCorr = 0 # 0 for raw vs 1 neuropil corrected signal\n",
    "fs = 6\n",
    "\n",
    "rois_to_include =  np.arange(5) #[0,2,3,6] # [0,1,20,21,26] #\n",
    "\n",
    "fname_signals = 'VJ_OFCVTA_7_260_D6_neuropil_corrected_signals_15_50_beta_0.8.npy'\n",
    "fdir = os.path.abspath('./sample_data') # directory where suite2p folder is\n",
    "filename = os.path.split(fdir)[-1]\n",
    "\n",
    "proj_img_path = os.path.join(fdir, f'{filename}_output_images\\std_img.tif')\n",
    "sima_h5_path = os.path.join(fdir, f'{filename}_sima_mc.h5')\n",
    "sima_mask_path = os.path.join(fdir, f'{filename}_sima_masks.npy')\n",
    "\n",
    "fig_save_dir = os.path.join(fdir, 'figs')\n",
    "if not os.path.exists(fig_save_dir):\n",
    "    os.mkdir(fig_save_dir)\n",
    "\n"
   ]
  },
  {
   "cell_type": "markdown",
   "metadata": {},
   "source": [
    "# SIMA "
   ]
  },
  {
   "cell_type": "code",
   "execution_count": null,
   "metadata": {},
   "outputs": [],
   "source": [
    "roi_signal_sima = np.load(os.path.join(fdir, fname_signals))"
   ]
  },
  {
   "cell_type": "code",
   "execution_count": null,
   "metadata": {},
   "outputs": [],
   "source": [
    "if os.path.exists(proj_img_path):\n",
    "    proj_manual = {}\n",
    "    proj_manual['std_img'] = np.array(Image.open(proj_img_path))\n",
    "\n",
    "    manual_data_dims = proj_manual['std_img'].shape\n",
    "elif os.path.exists(sima_h5_path):\n",
    "    # load video data\n",
    "    # open h5 to read, find data key, grab data, then close\n",
    "    h5 = h5py.File(sima_h5_path,'r')\n",
    "    sima_data = np.squeeze(np.array( h5[list(h5.keys())[0]] )).astype('int16') # np.array loads all data into memory\n",
    "    h5.close()\n",
    "\n",
    "    proj_manual = {'mean_img': np.mean(sima_data, axis = 0), \n",
    "                   'max_img': np.max(sima_data, axis = 0), \n",
    "                   'std_img': np.std(sima_data, axis = 0) }\n",
    "\n",
    "    manual_data_dims = sima_data.shape"
   ]
  },
  {
   "cell_type": "code",
   "execution_count": null,
   "metadata": {},
   "outputs": [],
   "source": [
    "# grab ROI masks from sima (these are probably manually drawn ROIs from imagej)\n",
    "sima_masks = np.load(sima_mask_path)\n",
    "numROI_sima = sima_masks.shape[0]"
   ]
  },
  {
   "cell_type": "code",
   "execution_count": null,
   "metadata": {},
   "outputs": [],
   "source": [
    "# define number of ROIs to visualize and make colormap for contours\n",
    "colors_roi = plt.cm.viridis(np.linspace(0,1,len(rois_to_include)))"
   ]
  },
  {
   "cell_type": "code",
   "execution_count": null,
   "metadata": {
    "scrolled": true
   },
   "outputs": [],
   "source": [
    "# make binary array of roi pixels for contour plotting\n",
    "zero_template_manual = np.zeros([manual_data_dims[-2], manual_data_dims[-1]])\n",
    "roi_label_loc_manual = []\n",
    "\n",
    "for idx, iROI in enumerate(rois_to_include):\n",
    "    \n",
    "    # make binary map of ROI pixels\n",
    "    ypix_roi, xpix_roi = np.where(sima_masks[iROI,:,:] == 1)\n",
    "    \n",
    "    if ypix_roi.size == 0:\n",
    "\n",
    "        roi_label_loc_manual.append( [0, 0] )\n",
    "        \n",
    "    else:\n",
    "        zero_template_manual[ ypix_roi, xpix_roi ] = idx+1\n",
    "\n",
    "        roi_label_loc_manual.append( [np.min(ypix_roi), np.min(xpix_roi)] )\n"
   ]
  },
  {
   "cell_type": "code",
   "execution_count": null,
   "metadata": {
    "scrolled": false
   },
   "outputs": [],
   "source": [
    "# plot contours and cell numbers\n",
    "clims = [ np.min(proj_manual['std_img']), \n",
    "        np.max(proj_manual['std_img']) ]\n",
    "\n",
    "fig, ax = plt.subplots(1, 1, figsize = (10,10))\n",
    "im = ax.imshow(proj_manual['std_img'], cmap = 'gray', vmin = clims[0]*1, vmax = clims[1]*0.8)\n",
    "ax.axis('off')\n",
    "\n",
    "for iROI, roi_id in enumerate(rois_to_include): \n",
    "    ax.contour(sima_masks[roi_id,:,:], colors=[colors_roi[iROI]])\n",
    "\n",
    "# plot ROI number\n",
    "for iROI, roi_id in enumerate(rois_to_include): \n",
    "    ax.text(roi_label_loc_manual[iROI][1]-6, roi_label_loc_manual[iROI][0]-6,  str(roi_id), fontsize=15, color = colors_roi[iROI]);\n",
    "\n",
    "plt.title('Manual ROIs', fontsize = 20)\n",
    "#plt.axis([150,400,20,270])\n",
    "#plt.gca().invert_yaxis()\n",
    "\n",
    "#fig.colorbar(im)\n",
    "#im.set_clim([30, 350])\n",
    "\n",
    "plt.savefig(os.path.join(fig_save_dir, 'roi_contour_map.jpg'))\n",
    "plt.savefig(os.path.join(fig_save_dir, 'roi_contour_map.pdf'))"
   ]
  },
  {
   "cell_type": "code",
   "execution_count": null,
   "metadata": {},
   "outputs": [],
   "source": [
    "# initialize variables for plotting time-series\n",
    "\n",
    "num_samps = roi_signal_sima.shape[-1]\n",
    "total_time = num_samps/fs \n",
    "tvec = np.linspace(0,total_time,num_samps)"
   ]
  },
  {
   "cell_type": "code",
   "execution_count": null,
   "metadata": {},
   "outputs": [],
   "source": [
    "fig, ax = plt.subplots(len(rois_to_include), 1, figsize = (7,30), sharey=True)\n",
    "for counter, iROI in enumerate(rois_to_include):\n",
    "    \n",
    "    baseline = np.mean(roi_signal_sima[iROI,:])\n",
    "    \n",
    "    to_plot = ( (roi_signal_sima[iROI,:]-baseline)/baseline )*100\n",
    "    \n",
    "    ax[counter].plot(tvec, np.transpose( to_plot ), color = colors_roi[counter], linewidth=0.8);\n",
    "\n",
    "    if counter == 0:\n",
    "        ax[counter].set_ylabel('dF/F',fontsize = 20)\n",
    "        \n",
    "    ax[counter].autoscale(enable=True, axis='x', tight=True) \n",
    "    ax[counter].tick_params(axis='both', which='major', labelsize=15)\n",
    "    ax[counter].tick_params(axis='both', which='minor', labelsize=15)\n",
    "    #ax[counter].set_xlim([300,2000])\n",
    "    \n",
    "ax[counter].set_xlabel('Time (s)',fontsize = 20);\n",
    "\n",
    "plt.savefig(os.path.join(fig_save_dir, 'roi_ts.jpg'))\n",
    "plt.savefig(os.path.join(fig_save_dir, 'roi_ts.pdf'))\n",
    "\n"
   ]
  },
  {
   "cell_type": "code",
   "execution_count": null,
   "metadata": {},
   "outputs": [],
   "source": []
  },
  {
   "cell_type": "code",
   "execution_count": null,
   "metadata": {},
   "outputs": [],
   "source": []
  }
 ],
 "metadata": {
  "kernelspec": {
   "display_name": "Python 3",
   "language": "python",
   "name": "python3"
  },
  "language_info": {
   "codemirror_mode": {
    "name": "ipython",
    "version": 3
   },
   "file_extension": ".py",
   "mimetype": "text/x-python",
   "name": "python",
   "nbconvert_exporter": "python",
   "pygments_lexer": "ipython3",
   "version": "3.7.4"
  }
 },
 "nbformat": 4,
 "nbformat_minor": 2
}
