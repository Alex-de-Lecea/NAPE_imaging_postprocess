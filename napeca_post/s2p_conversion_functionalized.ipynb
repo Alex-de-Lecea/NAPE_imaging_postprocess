{
 "cells": [
  {
   "cell_type": "code",
   "execution_count": 1,
   "id": "9c234f43-db43-4dbc-bc3c-8444c329b3c7",
   "metadata": {},
   "outputs": [],
   "source": [
    "import numpy as np\n",
    "import pickle as pkl\n",
    "import os\n",
    "import pandas as pd\n",
    "import s2p_con_func"
   ]
  },
  {
   "cell_type": "markdown",
   "id": "61d630a6",
   "metadata": {},
   "source": [
    "# User Defined Variables\n"
   ]
  },
  {
   "cell_type": "code",
   "execution_count": 2,
   "id": "6c32e229",
   "metadata": {},
   "outputs": [],
   "source": [
    "fname = '59879-0 666um 200pwr 10xobj 4frm avg suc70 quin30-000'\n",
    "fdir =  r'C:\\Users\\Alex_dl\\Documents\\GitHub\\NAPE_imaging_postprocess\\napeca_post\\sample_data'\n"
   ]
  },
  {
   "cell_type": "code",
   "execution_count": 3,
   "id": "ca25ed73",
   "metadata": {},
   "outputs": [],
   "source": [
    "if __name__==\"__main__\":\n",
    "    threshold_scaling_values = 0\n",
    "    \n",
    "s2p_con_func.csv_npy_save(fdir, fname, threshold_scaling_values)"
   ]
  },
  {
   "cell_type": "code",
   "execution_count": 4,
   "id": "3093d175",
   "metadata": {},
   "outputs": [
    {
     "name": "stdout",
     "output_type": "stream",
     "text": [
      "0\n"
     ]
    }
   ],
   "source": [
    "print(threshold_scaling_values)"
   ]
  }
 ],
 "metadata": {
  "kernelspec": {
   "display_name": "Python 3 (ipykernel)",
   "language": "python",
   "name": "python3"
  },
  "language_info": {
   "codemirror_mode": {
    "name": "ipython",
    "version": 3
   },
   "file_extension": ".py",
   "mimetype": "text/x-python",
   "name": "python",
   "nbconvert_exporter": "python",
   "pygments_lexer": "ipython3",
   "version": "3.7.12"
  }
 },
 "nbformat": 4,
 "nbformat_minor": 5
}
