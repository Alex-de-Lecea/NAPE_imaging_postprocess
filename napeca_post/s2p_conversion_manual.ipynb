{
 "cells": [
  {
   "cell_type": "markdown",
   "id": "61d630a6",
   "metadata": {},
   "source": [
    "# Suite2p Activity Trace and Behavioral Data Converter\n",
    "\n",
    "\n",
    "## What does this script do:\n",
    "\n",
    "Section 1) Converts Suite2p extracted ROI traces and neuropil data output into a numpy or csv file ready for downstream event-related analysis\n",
    "\n",
    "Section 2) Create a pickle file containing a dictionary where each key represents a condition/event-type in the session and the corresponding values are lists containing time stamps of each event in samples\n",
    "\n",
    "How to run this code\n",
    "------------------------------------\n",
    "\n",
    "In this jupyter notebook, First find the code block with the comment header called USER-DEFINED VARIABLES. Edit the variables according to your data and output preferences. Then just run all cells in order (shift + enter; or in the dropdown menu: Kernel->Resart & Run All).\n",
    "\n",
    "User-Defined Parameters \n",
    "----------\n",
    "\n",
    "fdir : string \n",
    "\n",
    "    Root file directory containing the data files. IMPORTANT Note: leave off the last backslash, and include the letter r in front of string (treats the contents as a raw string). For example: r'C:\\Users\\my_user\\analyze_sessions'\n",
    "\n",
    "fname : string\n",
    "\n",
    "    Session name; by default this is the name of the parent folder that the data resides in, but can be changed by user to be any string. This fname variable is mainly used to name the saved output files."
   ]
  },
  {
   "cell_type": "code",
   "execution_count": null,
   "id": "9c234f43-db43-4dbc-bc3c-8444c329b3c7",
   "metadata": {},
   "outputs": [],
   "source": [
    "import numpy as np\n",
    "import pickle as pkl\n",
    "import os\n",
    "import pandas as pd\n",
    "import s2p_con_func"
   ]
  },
  {
   "cell_type": "code",
   "execution_count": null,
   "id": "6c32e229",
   "metadata": {},
   "outputs": [],
   "source": [
    "\"\"\"\n",
    "USER-DEFINED VARIABLES\n",
    "\"\"\"\n",
    "\n",
    "fname = '59879-0 666um 200pwr 10xobj 4frm avg suc70 quin30-000' \n",
    "fdir =  os.abspath(r'C:\\Users\\Alex_dl\\Documents\\GitHub\\NAPE_imaging_postprocess\\napeca_post\\sample_data')"
   ]
  },
  {
   "cell_type": "code",
   "execution_count": null,
   "id": "ca25ed73",
   "metadata": {},
   "outputs": [],
   "source": [
    "if __name__==\"__main__\":\n",
    "    threshold_scaling_values = 0\n",
    "    \n",
    "s2p_con_func.csv_npy_save(fdir, fname, threshold_scaling_values)"
   ]
  }
 ],
 "metadata": {
  "kernelspec": {
   "display_name": "Python 3 (ipykernel)",
   "language": "python",
   "name": "python3"
  },
  "language_info": {
   "codemirror_mode": {
    "name": "ipython",
    "version": 3
   },
   "file_extension": ".py",
   "mimetype": "text/x-python",
   "name": "python",
   "nbconvert_exporter": "python",
   "pygments_lexer": "ipython3",
   "version": "3.7.12"
  }
 },
 "nbformat": 4,
 "nbformat_minor": 5
}
