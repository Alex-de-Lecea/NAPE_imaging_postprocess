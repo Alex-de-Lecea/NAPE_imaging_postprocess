{
 "cells": [
  {
   "cell_type": "code",
   "execution_count": null,
   "metadata": {
    "scrolled": true
   },
   "outputs": [],
   "source": [
    "import os\n",
    "import numpy as np\n",
    "import h5py\n",
    "import tifffile as tiff\n",
    "\n",
    "import matplotlib.pyplot as plt\n",
    "plt.rcParams['text.usetex'] = False\n",
    "plt.rcParams['text.latex.unicode'] = False"
   ]
  },
  {
   "cell_type": "code",
   "execution_count": null,
   "metadata": {},
   "outputs": [],
   "source": [
    "# define number of ROIs to visualize and make colormap\n",
    "numROI_2Viz = 5\n",
    "\n",
    "fname = 'VJ_OFCVTA_7_260_D6'\n",
    "fdir = 'C:\\\\2pData\\\\Vijay data\\\\VJ_OFCVTA_7_D8_trained\\\\'\n",
    "suite2p_dat_dir = fdir + 'suite2p\\\\plane0\\\\'\n",
    "\n",
    "fig_save_dir = os.path.join(fdir, 'figs')\n",
    "proj_dir = os.path.join(fdir, '{}_output_images'.format(fname))"
   ]
  },
  {
   "cell_type": "code",
   "execution_count": null,
   "metadata": {},
   "outputs": [],
   "source": [
    "def calc_dff(data):\n",
    "    baseline = np.nanmean(data)\n",
    "    return ( (data-baseline)/baseline )*100"
   ]
  },
  {
   "cell_type": "code",
   "execution_count": null,
   "metadata": {},
   "outputs": [],
   "source": [
    "s2p_data = {}\n",
    "# define paths for loading s2p data\n",
    "s2p_dir = os.path.join(fdir, 'suite2p', 'plane0')\n",
    "s2p_F_path = os.path.join(s2p_dir, 'F.npy')\n",
    "s2p_Fneu_path = os.path.join(s2p_dir, 'Fneu.npy')\n",
    "s2p_iscell_path = os.path.join(s2p_dir, 'iscell.npy')\n",
    "s2p_ops_path = os.path.join(s2p_dir, 'ops.npy')\n",
    "s2p_stat_path = os.path.join(s2p_dir, 'stat.npy')\n",
    "\n",
    "# load s2p data\n",
    "s2p_data['F'] = np.load(s2p_F_path, allow_pickle=True)\n",
    "s2p_data['Fneu'] = np.load(s2p_Fneu_path, allow_pickle=True)\n",
    "s2p_data['iscell'] = np.load(s2p_iscell_path, allow_pickle=True)\n",
    "s2p_data['ops'] = np.load(s2p_ops_path, allow_pickle=True).item()\n",
    "s2p_data['stat'] = np.load(s2p_stat_path, allow_pickle=True)\n",
    "\n",
    "s2p_data['F_npil_corr'] = s2p_data['F'] - s2p_data['ops']['neucoeff'] * s2p_data['Fneu']\n",
    "\n",
    "s2p_data['F_npil_corr_dff'] = np.apply_along_axis(calc_dff, 1, s2p_data['F_npil_corr'])"
   ]
  },
  {
   "cell_type": "code",
   "execution_count": null,
   "metadata": {},
   "outputs": [],
   "source": [
    "cell_ids = np.where( s2p_data['iscell'][:,0] == 1 )[0]  # indices of detected cells across all ROIs from suite2p"
   ]
  },
  {
   "cell_type": "code",
   "execution_count": null,
   "metadata": {},
   "outputs": [],
   "source": [
    "colors_roi = plt.cm.viridis(np.linspace(0,1,numROI_2Viz))"
   ]
  },
  {
   "cell_type": "code",
   "execution_count": null,
   "metadata": {},
   "outputs": [],
   "source": [
    "# initialize templates for contour map\n",
    "plot_these_roi = []\n",
    "zero_template = np.zeros([s2p_data['ops']['Ly'], s2p_data['ops']['Lx']])\n",
    "\n",
    "# loop through ROIs and add their spatial footprints to template\n",
    "for idx,iROI in enumerate(cell_ids):\n",
    "    zero_template[ s2p_data['stat'][iROI]['ypix'], s2p_data['stat'][iROI]['xpix'] ] = 1*(idx+1)\n",
    "    \n",
    "    plot_these_roi.append(iROI) # just an array of cell ROI numbers for subsequent analyses\n",
    "    \n",
    "    if idx == numROI_2Viz-1:\n",
    "        break\n"
   ]
  },
  {
   "cell_type": "code",
   "execution_count": null,
   "metadata": {},
   "outputs": [],
   "source": [
    "to_plot = s2p_data['ops']['meanImg']\n",
    "\n",
    "fig, ax = plt.subplots(1, 1, figsize = (10,10))\n",
    "ax.imshow(to_plot, cmap = 'gray', vmin=np.min(to_plot)*1.0, vmax=np.max(to_plot)*0.5)\n",
    "ax.axis('off')\n",
    "ax.contour(zero_template, colors = colors_roi);\n",
    "\n",
    "plt.savefig(os.path.join(fig_save_dir, 'roi_contour_map.png'))\n",
    "plt.savefig(os.path.join(fig_save_dir, 'roi_contour_map.pdf'))"
   ]
  },
  {
   "cell_type": "markdown",
   "metadata": {},
   "source": [
    "# Plot Time-series of Selected ROIs"
   ]
  },
  {
   "cell_type": "code",
   "execution_count": null,
   "metadata": {},
   "outputs": [],
   "source": [
    "# initialize variables for plotting time-series\n",
    "fs = s2p_data['ops']['fs']\n",
    "num_samps = s2p_data['ops']['nframes']\n",
    "total_time = num_samps/fs \n",
    "tvec = np.linspace(0,total_time,num_samps)"
   ]
  },
  {
   "cell_type": "code",
   "execution_count": null,
   "metadata": {},
   "outputs": [],
   "source": [
    "fig, ax = plt.subplots(numROI_2Viz, 1, figsize = (9,10))\n",
    "for idx, iROI in enumerate(plot_these_roi):\n",
    "    \n",
    "    \n",
    "    to_plot = s2p_data['F_npil_corr_dff'][iROI]\n",
    "    \n",
    "    ax[idx].plot(tvec, np.transpose( to_plot ), color = colors_roi[idx] );\n",
    "    #ax[idx].axis([0,500,-100,500])\n",
    "    \n",
    "    if idx == np.ceil(numROI_2Viz/2-1):\n",
    "        ax[idx].set_ylabel('Fluorescence Level',fontsize = 20)\n",
    "        \n",
    "# Setting the values for all axes.\n",
    "#plt.setp(ax, xlim=custom_xlim, ylim=custom_ylim)  \n",
    "\n",
    "ax[idx].set_xlabel('Time [s]',fontsize = 20);\n",
    "plt.savefig(fig_save_dir + 'roi_ts.png')\n",
    "plt.savefig(fig_save_dir + 'roi_ts.pdf')"
   ]
  },
  {
   "cell_type": "code",
   "execution_count": null,
   "metadata": {},
   "outputs": [],
   "source": []
  }
 ],
 "metadata": {
  "kernelspec": {
   "display_name": "Python 3 (ipykernel)",
   "language": "python",
   "name": "python3"
  },
  "language_info": {
   "codemirror_mode": {
    "name": "ipython",
    "version": 3
   },
   "file_extension": ".py",
   "mimetype": "text/x-python",
   "name": "python",
   "nbconvert_exporter": "python",
   "pygments_lexer": "ipython3",
   "version": "3.7.12"
  }
 },
 "nbformat": 4,
 "nbformat_minor": 2
}
