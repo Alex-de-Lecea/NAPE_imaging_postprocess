{
 "cells": [
  {
   "cell_type": "code",
   "execution_count": null,
   "metadata": {
    "scrolled": true
   },
   "outputs": [],
   "source": [
    "import os\n",
    "import numpy as np\n",
    "import h5py\n",
    "import tifffile as tiff\n",
    "\n",
    "import matplotlib.pyplot as plt\n",
    "plt.rcParams['text.usetex'] = False\n",
    "plt.rcParams['text.latex.unicode'] = False"
   ]
  },
  {
   "cell_type": "code",
   "execution_count": null,
   "metadata": {},
   "outputs": [],
   "source": [
    "# define number of ROIs to visualize and make colormap\n",
    "rois_to_plot = 5 # can be 1) a list of select rois, 2) an integer (n) indicating n first rois to plot, or 3) None which plots all valid ROIs\n",
    "\n",
    "fname = 'VJ_OFCVTA_7_260_D6'\n",
    "fdir = r'C:\\2pData\\Vijay data\\VJ_OFCVTA_7_D8_trained'"
   ]
  },
  {
   "cell_type": "code",
   "execution_count": null,
   "metadata": {},
   "outputs": [],
   "source": [
    "def calc_dff(data):\n",
    "    baseline = np.nanmean(data)\n",
    "    return ( (data-baseline)/baseline )*100"
   ]
  },
  {
   "cell_type": "code",
   "execution_count": null,
   "metadata": {},
   "outputs": [],
   "source": [
    "suite2p_dat_dir = os.path.join('suite2p','plane0')\n",
    "fig_save_dir = os.path.join(fdir, 'figs')\n",
    "proj_dir = os.path.join(fdir, '{}_output_images'.format(fname))\n",
    "\n",
    "s2p_data = {}\n",
    "# define paths for loading s2p data\n",
    "s2p_dir = os.path.join(fdir, 'suite2p', 'plane0')\n",
    "s2p_F_path = os.path.join(s2p_dir, 'F.npy')\n",
    "s2p_Fneu_path = os.path.join(s2p_dir, 'Fneu.npy')\n",
    "s2p_iscell_path = os.path.join(s2p_dir, 'iscell.npy')\n",
    "s2p_ops_path = os.path.join(s2p_dir, 'ops.npy')\n",
    "s2p_stat_path = os.path.join(s2p_dir, 'stat.npy')\n",
    "\n",
    "# load s2p data\n",
    "s2p_data['F'] = np.load(s2p_F_path, allow_pickle=True)\n",
    "s2p_data['Fneu'] = np.load(s2p_Fneu_path, allow_pickle=True)\n",
    "s2p_data['iscell'] = np.load(s2p_iscell_path, allow_pickle=True)\n",
    "s2p_data['ops'] = np.load(s2p_ops_path, allow_pickle=True).item()\n",
    "s2p_data['stat'] = np.load(s2p_stat_path, allow_pickle=True)\n",
    "\n",
    "s2p_data['F_npil_corr'] = s2p_data['F'] - s2p_data['ops']['neucoeff'] * s2p_data['Fneu']\n",
    "\n",
    "s2p_data['F_npil_corr_dff'] = np.apply_along_axis(calc_dff, 1, s2p_data['F_npil_corr'])"
   ]
  },
  {
   "cell_type": "code",
   "execution_count": null,
   "metadata": {},
   "outputs": [],
   "source": [
    "iscell_ids = np.where( s2p_data['iscell'][:,0] == 1 )[0] # indices of user-curated cells referencing all ROIs detected by s2p\n",
    "\n",
    "if isinstance(rois_to_plot, int): # if int is supplied, first n user-curated rois included in analysis\n",
    "    rois_to_plot = np.arange(rois_to_plot)\n",
    "elif rois_to_plot is None: # if None is supplied, all user-curated rois included in analysis\n",
    "    rois_to_plot = np.arange(len(iscell_ids))\n",
    "    \n",
    "cell_ids = iscell_ids[rois_to_plot] # indices of detected cells across all ROIs from suite2p\n",
    "num_rois = len(rois_to_plot)"
   ]
  },
  {
   "cell_type": "code",
   "execution_count": null,
   "metadata": {},
   "outputs": [],
   "source": [
    "# initialize templates for contour map\n",
    "colors_roi = plt.cm.viridis(np.linspace(0,1,num_rois))\n",
    "s2p_masks = np.empty([num_rois, s2p_data['ops']['Ly'], s2p_data['ops']['Lx']])\n",
    "roi_centroids = np.empty([num_rois, 2])\n",
    "\n",
    "# loop through ROIs and add their spatial footprints to template\n",
    "for idx, roi_id in enumerate(cell_ids):\n",
    "    \n",
    "    zero_template = np.zeros([s2p_data['ops']['Ly'], s2p_data['ops']['Lx']])\n",
    "    zero_template[ s2p_data['stat'][roi_id]['ypix'], s2p_data['stat'][roi_id]['xpix'] ] = 1\n",
    "    s2p_masks[idx,...] = zero_template\n",
    "    \n",
    "    roi_centroids[idx,...] = [np.min(s2p_data['stat'][roi_id]['ypix']), np.min(s2p_data['stat'][roi_id]['xpix'])]\n",
    "    \n",
    "    if idx == num_rois-1:\n",
    "        break\n"
   ]
  },
  {
   "cell_type": "code",
   "execution_count": null,
   "metadata": {},
   "outputs": [],
   "source": [
    "to_plot = s2p_data['ops']['meanImg']\n",
    "\n",
    "fig, ax = plt.subplots(1, 1, figsize = (10,10))\n",
    "ax.imshow(to_plot, cmap = 'gray', vmin=np.min(to_plot)*1.0, vmax=np.max(to_plot)*0.5)\n",
    "ax.axis('off')\n",
    "\n",
    "for idx, roi_id in enumerate(cell_ids): \n",
    "    ax.contour(s2p_masks[idx,:,:], colors=[colors_roi[idx]])\n",
    "    ax.text(roi_centroids[idx][1]-1, roi_centroids[idx][0]-1,  str(idx), fontsize=15, color = colors_roi[idx]);\n",
    "\n",
    "plt.savefig(os.path.join(fig_save_dir, 'roi_contour_map.png'))\n",
    "plt.savefig(os.path.join(fig_save_dir, 'roi_contour_map.pdf'))"
   ]
  },
  {
   "cell_type": "markdown",
   "metadata": {},
   "source": [
    "# Plot Time-series of Selected ROIs"
   ]
  },
  {
   "cell_type": "code",
   "execution_count": null,
   "metadata": {},
   "outputs": [],
   "source": [
    "# initialize variables for plotting time-series\n",
    "fs = s2p_data['ops']['fs']\n",
    "num_samps = s2p_data['ops']['nframes']\n",
    "total_time = num_samps/fs \n",
    "tvec = np.linspace(0,total_time,num_samps)"
   ]
  },
  {
   "cell_type": "code",
   "execution_count": null,
   "metadata": {},
   "outputs": [],
   "source": [
    "fig, ax = plt.subplots(num_rois, 1, figsize = (9,2*num_rois))\n",
    "for idx, roi_id in enumerate(cell_ids):\n",
    "    \n",
    "    to_plot = s2p_data['F_npil_corr_dff'][roi_id] # F_npil_corr_dff contain all s2p-detected cells; roi_id references those indices\n",
    "    \n",
    "    ax[idx].plot(tvec, np.transpose( to_plot ), color = colors_roi[idx] );\n",
    "    #ax[idx].axis([0,500,-100,500])\n",
    "    \n",
    "    if idx == np.ceil(num_rois/2-1):\n",
    "        ax[idx].set_ylabel('Fluorescence Level',fontsize = 20)\n",
    "        \n",
    "# Setting the values for all axes.\n",
    "#plt.setp(ax, xlim=custom_xlim, ylim=custom_ylim)  \n",
    "\n",
    "ax[idx].set_xlabel('Time [s]',fontsize = 20);\n",
    "\n",
    "plt.savefig(os.path.join(fig_save_dir, 'roi_ts.png'))\n",
    "plt.savefig(os.path.join(fig_save_dir, 'roi_ts.pdf'))"
   ]
  },
  {
   "cell_type": "code",
   "execution_count": null,
   "metadata": {},
   "outputs": [],
   "source": []
  }
 ],
 "metadata": {
  "kernelspec": {
   "display_name": "Python 3 (ipykernel)",
   "language": "python",
   "name": "python3"
  },
  "language_info": {
   "codemirror_mode": {
    "name": "ipython",
    "version": 3
   },
   "file_extension": ".py",
   "mimetype": "text/x-python",
   "name": "python",
   "nbconvert_exporter": "python",
   "pygments_lexer": "ipython3",
   "version": "3.7.12"
  }
 },
 "nbformat": 4,
 "nbformat_minor": 2
}
