{
 "cells": [
  {
   "cell_type": "code",
   "execution_count": null,
   "id": "7523701a-fead-48bd-b7e1-0ad28aa9c97b",
   "metadata": {},
   "outputs": [],
   "source": [
    "import os\n",
    "import numpy as np\n",
    "import h5py\n",
    "import tifffile as tiff\n",
    "\n",
    "import utils\n",
    "\n",
    "import matplotlib.pyplot as plt\n",
    "plt.rcParams['text.usetex'] = False\n",
    "plt.rcParams['text.latex.unicode'] = False"
   ]
  },
  {
   "cell_type": "code",
   "execution_count": null,
   "id": "b318a773-3ac9-45d3-ab2a-0d7bece74022",
   "metadata": {},
   "outputs": [],
   "source": [
    "def Plot_ROI_Contours(fdir, tseries_start_end, rois_to_plot):\n",
    "    suite2p_dat_dir = os.path.join('suite2p','plane0')\n",
    "    fig_save_dir = os.path.join(fdir, 'figs')\n",
    "    utils.check_exist_dir(fig_save_dir)\n",
    "\n",
    "    s2p_data = {}\n",
    "    # define paths for loading s2p data\n",
    "    s2p_dir = os.path.join(fdir, 'suite2p', 'plane0')\n",
    "    s2p_F_path = os.path.join(s2p_dir, 'F.npy')\n",
    "    s2p_Fneu_path = os.path.join(s2p_dir, 'Fneu.npy')\n",
    "    s2p_iscell_path = os.path.join(s2p_dir, 'iscell.npy')\n",
    "    s2p_ops_path = os.path.join(s2p_dir, 'ops.npy')\n",
    "    s2p_stat_path = os.path.join(s2p_dir, 'stat.npy')\n",
    "\n",
    "    # load s2p data\n",
    "    s2p_data['F'] = np.load(s2p_F_path, allow_pickle=True)\n",
    "    s2p_data['Fneu'] = np.load(s2p_Fneu_path, allow_pickle=True)\n",
    "    s2p_data['iscell'] = np.load(s2p_iscell_path, allow_pickle=True)\n",
    "    s2p_data['ops'] = np.load(s2p_ops_path, allow_pickle=True).item()\n",
    "    s2p_data['stat'] = np.load(s2p_stat_path, allow_pickle=True)\n",
    "\n",
    "    s2p_data['F_npil_corr'] = s2p_data['F'] - s2p_data['ops']['neucoeff'] * s2p_data['Fneu']\n",
    "\n",
    "    s2p_data['F_npil_corr_dff'] = np.apply_along_axis(utils.calc_dff, 1, s2p_data['F_npil_corr'])\n"
   ]
  }
 ],
 "metadata": {
  "kernelspec": {
   "display_name": "Python 3 (ipykernel)",
   "language": "python",
   "name": "python3"
  },
  "language_info": {
   "codemirror_mode": {
    "name": "ipython",
    "version": 3
   },
   "file_extension": ".py",
   "mimetype": "text/x-python",
   "name": "python",
   "nbconvert_exporter": "python",
   "pygments_lexer": "ipython3",
   "version": "3.7.12"
  }
 },
 "nbformat": 4,
 "nbformat_minor": 5
}
